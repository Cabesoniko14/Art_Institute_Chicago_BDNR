{
 "cells": [
  {
   "attachments": {},
   "cell_type": "markdown",
   "metadata": {},
   "source": [
    "# **Proyecto Final BD_NR**"
   ]
  },
  {
   "attachments": {},
   "cell_type": "markdown",
   "metadata": {},
   "source": [
    "> **¿Qué hace este programa?** Realiza una descarga de la API del Art Institute of Chicago de hasta 1000 obras para descargarla a MongoDB, y luego, usando una máquina virtual, prender una instancia y pasar los datos a Neo4j."
   ]
  },
  {
   "attachments": {},
   "cell_type": "markdown",
   "metadata": {},
   "source": [
    "**INSTRUCCIONES** Corre la celda a continuación, llena los inputs deseados, y deja correr el resto de las celdas"
   ]
  },
  {
   "attachments": {},
   "cell_type": "markdown",
   "metadata": {},
   "source": [
    "## **1. Lectura de inputs**"
   ]
  },
  {
   "cell_type": "code",
   "execution_count": null,
   "metadata": {},
   "outputs": [],
   "source": [
    "from IPython.display import display\n",
    "import ipywidgets as widgets\n",
    "\n",
    "name_bd_mongo = widgets.Text(value='', description='BD:', layout=widgets.Layout(width='300px'))\n",
    "name_col_mongo = widgets.Text(value='', description='Colección:', layout=widgets.Layout(width='300px'))\n",
    "submit_button = widgets.Button(description='Submit')\n",
    "\n",
    "def submit_button_clicked(b):\n",
    "    global bd_mongo, col_mongo\n",
    "    bd_mongo = name_bd_mongo.value\n",
    "    col_mongo = name_col_mongo.value\n",
    "    print(\"BD de Mongo:\", bd_mongo)\n",
    "    print(\"Colección de Mongo:\", col_mongo)\n",
    "\n",
    "submit_button.on_click(submit_button_clicked)\n",
    "\n",
    "input_widgets = widgets.VBox([name_bd_mongo, name_col_mongo, submit_button])\n",
    "display(input_widgets)\n"
   ]
  },
  {
   "attachments": {},
   "cell_type": "markdown",
   "metadata": {},
   "source": [
    "## **2. Import de bibliotecas**"
   ]
  },
  {
   "cell_type": "code",
   "execution_count": 1,
   "metadata": {},
   "outputs": [],
   "source": [
    "import requests\n",
    "import pymongo\n",
    "from py2neo import Graph"
   ]
  },
  {
   "attachments": {},
   "cell_type": "markdown",
   "metadata": {},
   "source": [
    "## **3. Conexión API a MongoDB**"
   ]
  },
  {
   "attachments": {},
   "cell_type": "markdown",
   "metadata": {},
   "source": [
    "Conexión a la API del Art Institute de Chicago para descargar 1000 obras de arte en una base de MongoDB."
   ]
  },
  {
   "attachments": {},
   "cell_type": "markdown",
   "metadata": {},
   "source": [
    "**Descarga de obras de la API**"
   ]
  },
  {
   "cell_type": "code",
   "execution_count": null,
   "metadata": {},
   "outputs": [],
   "source": [
    "# Crear un arreglo para guardar las obras de arte\n",
    "\n",
    "url = \"https://api.artic.edu/api/v1/artworks?limit=100\" # Descargar 500 obras\n",
    "response = requests.get(url)\n",
    "if response.status_code == 200:\n",
    "    data = response.json()\n",
    "else:\n",
    "    print(f'Error en la descarga {response.status_code}')\n",
    "    \n",
    "# Descargar solo los datos\n",
    "collection = data['data']"
   ]
  },
  {
   "cell_type": "code",
   "execution_count": null,
   "metadata": {},
   "outputs": [],
   "source": [
    "collection[1]"
   ]
  },
  {
   "attachments": {},
   "cell_type": "markdown",
   "metadata": {},
   "source": [
    "**Revisar la estructura de cada JSON de una obra**"
   ]
  },
  {
   "attachments": {},
   "cell_type": "markdown",
   "metadata": {},
   "source": [
    "**Subir las obras a una nueva BD y colección en MongoDB**"
   ]
  },
  {
   "cell_type": "code",
   "execution_count": null,
   "metadata": {},
   "outputs": [],
   "source": [
    "# Crear un cliente de MongoDB\n",
    "client = pymongo.MongoClient('mongodb://localhost:27017/')\n",
    "\n",
    "# Poner nombre a la BD\n",
    "db = client[bd_mongo]\n",
    "\n",
    "# Poner nombre a la conexión\n",
    "my_collection = db[col_mongo]\n",
    "insert_result = my_collection.insert_many(collection)"
   ]
  },
  {
   "attachments": {},
   "cell_type": "markdown",
   "metadata": {},
   "source": [
    "## **4. Conexión de MongoDB a Neo4j**"
   ]
  },
  {
   "attachments": {},
   "cell_type": "markdown",
   "metadata": {},
   "source": [
    "Conexión de los datos de MongoDB a Neo4j, para así poder crear una nueva base de grafos, relacionando obras de arte entre ellas."
   ]
  },
  {
   "cell_type": "code",
   "execution_count": 4,
   "metadata": {},
   "outputs": [],
   "source": [
    "# Conectarse a Neo4j\n",
    "\n",
    "graph = Graph(\"bolt://3.17.74.53:7687\", auth=(\"neo4j\", \"Putopacman14\"))\n"
   ]
  },
  {
   "cell_type": "code",
   "execution_count": 5,
   "metadata": {},
   "outputs": [],
   "source": [
    "# Crear un cliente de MongoDB\n",
    "client = pymongo.MongoClient('mongodb://localhost:27017/')\n",
    "\n",
    "# Poner nombre a la BD\n",
    "db = client[\"museum\"]\n",
    "\n",
    "# Poner nombre a la conexión\n",
    "my_collection = db[\"artwork\"]"
   ]
  },
  {
   "attachments": {},
   "cell_type": "markdown",
   "metadata": {},
   "source": [
    "### **4.1. Conseguir entidades**"
   ]
  },
  {
   "cell_type": "code",
   "execution_count": 12,
   "metadata": {},
   "outputs": [],
   "source": [
    "# Artistas\n",
    "pipeline_artists = [\n",
    "    {\"$group\": {\"_id\": \"$artist_title\", \"estilos\": {\"$addToSet\": \"$style_title\"}}},\n",
    "    {\"$project\": {\"_id\": 0, \"artista\": \"$_id\", \"estilos\": 1}},\n",
    "    {\"$sort\": {\"artista\": 1}}\n",
    "]\n",
    "\n",
    "artistas = my_collection.aggregate(pipeline_artists)\n",
    "\n",
    "# Obras\n",
    "\n",
    "pipeline_obras = [{ \"$project\": {\n",
    "      \"nombre\": \"$title\",\n",
    "      \"id\": \"$id\",\n",
    "      \"lugar_origen\": \"$place_of_origin\",\n",
    "      \"artista\": \"$artist_title\",\n",
    "      \"estilo\": \"$style_title\",\n",
    "      \"tipo\": \"$medium_display\",\n",
    "      \"_id\": 0\n",
    "    }\n",
    "  }\n",
    "]\n",
    "\n",
    "\n",
    "obras = my_collection.aggregate(pipeline_obras)\n",
    "\n",
    "\n",
    "# Lugares\n",
    "\n",
    "pipeline_lugares = [\n",
    "  {\"$group\": {\"_id\": \"$place_of_origin\"}},\n",
    "  {\"$project\":{\"_id\":0, \"lugar\":\"$_id\"}},\n",
    "  {\"$sort\":{\"lugar\":1}}\n",
    "]\n",
    "\n",
    "\n",
    "luagres = my_collection.aggregate(pipeline_lugares)\n"
   ]
  },
  {
   "cell_type": "code",
   "execution_count": 9,
   "metadata": {},
   "outputs": [
    {
     "name": "stdout",
     "output_type": "stream",
     "text": [
      "{'artista': None, 'estilos': ['Himalayan', None, 'South Asian']}\n",
      "{'artista': 'Aleksandr Mikhailovich Rodchenko', 'estilos': ['avant-garde']}\n",
      "{'artista': 'Ancient Egyptian', 'estilos': ['late period (egyptian)']}\n",
      "{'artista': 'Ancient Roman', 'estilos': [None]}\n",
      "{'artista': 'Baccarat Glassworks', 'estilos': [None]}\n",
      "{'artista': 'Balthus', 'estilos': ['Modernism']}\n",
      "{'artista': 'Berthe Morisot', 'estilos': ['Impressionism']}\n",
      "{'artista': 'Bill Brandt', 'estilos': [None]}\n",
      "{'artista': 'Claude Monet', 'estilos': ['Impressionism']}\n",
      "{'artista': 'Clichy Glasshouse', 'estilos': [None]}\n",
      "{'artista': 'Compagnie de Saint Louis', 'estilos': [None]}\n",
      "{'artista': 'Diego Rivera', 'estilos': ['Modernism']}\n",
      "{'artista': 'Diego Velázquez', 'estilos': [None]}\n",
      "{'artista': 'Doris Salcedo', 'estilos': [None]}\n",
      "{'artista': 'Dorothy Liebes', 'estilos': ['Modernism']}\n",
      "{'artista': 'Ernest Cole', 'estilos': [None]}\n",
      "{'artista': 'Eugène Delacroix', 'estilos': [None]}\n",
      "{'artista': 'Gego (Gertrud Goldschmidt)', 'estilos': [None]}\n",
      "{'artista': 'Georges Braque', 'estilos': [None]}\n",
      "{'artista': \"Georgia O'Keeffe\", 'estilos': ['Modernism', None]}\n",
      "{'artista': 'Guido Reni', 'estilos': [None]}\n",
      "{'artista': 'Hilaire Germain Edgar Degas', 'estilos': ['Impressionism', None]}\n",
      "{'artista': 'Ilse Bing', 'estilos': ['avant-garde']}\n",
      "{'artista': 'Jack Whitten', 'estilos': [None]}\n",
      "{'artista': 'John Henry Dearle', 'estilos': ['Arts and Crafts Movement']}\n",
      "{'artista': 'Joseph Cornell', 'estilos': [None]}\n",
      "{'artista': 'Kalo Shop (Firm)', 'estilos': ['Arts and Crafts Movement']}\n",
      "{'artista': 'Keith Haring', 'estilos': ['Pop Art']}\n",
      "{'artista': 'Lilla Cabot Perry', 'estilos': ['Impressionism']}\n",
      "{'artista': 'Magdalena Abakanowicz', 'estilos': [None]}\n",
      "{'artista': 'Marc Riboud', 'estilos': [None]}\n",
      "{'artista': 'Margret Craver', 'estilos': ['Modernism']}\n",
      "{'artista': 'Marie Laurencin', 'estilos': ['Orphism']}\n",
      "{'artista': 'Martin Wong', 'estilos': [None]}\n",
      "{'artista': 'Martta Taipale', 'estilos': ['20th Century']}\n",
      "{'artista': 'Mary Cassatt', 'estilos': ['Impressionism']}\n",
      "{'artista': 'Moche', 'estilos': ['moche']}\n",
      "{'artista': 'Nan Goldin', 'estilos': ['21st Century']}\n",
      "{'artista': 'Nicole Eisenman', 'estilos': ['21st Century']}\n",
      "{'artista': 'Pablo Picasso', 'estilos': ['Cubism']}\n",
      "{'artista': 'Paul Gauguin', 'estilos': ['Post-Impressionism']}\n",
      "{'artista': 'Paul Strand', 'estilos': ['avant-garde']}\n",
      "{'artista': 'Peer Smed', 'estilos': ['Modernism']}\n",
      "{'artista': 'Philip Guston', 'estilos': ['contemporary']}\n",
      "{'artista': 'Picardie School', 'estilos': [None]}\n",
      "{'artista': 'Pierre Bonnard', 'estilos': [None]}\n",
      "{'artista': 'Pierre Puvis de Chavannes', 'estilos': [None]}\n",
      "{'artista': 'Robert Motherwell', 'estilos': [None]}\n",
      "{'artista': 'Rosemarie Trockel', 'estilos': ['21st Century']}\n",
      "{'artista': 'Sonia Delaunay-Terk', 'estilos': ['Modernism']}\n",
      "{'artista': 'Vija Celmins', 'estilos': ['contemporary', 'Conceptual Art']}\n",
      "{'artista': 'Vincent van Gogh', 'estilos': [None]}\n",
      "{'artista': 'Édouard Manet', 'estilos': [None, 'Impressionism']}\n"
     ]
    }
   ],
   "source": [
    "# Process the results\n",
    "for artista in artistas:\n",
    "    # Access the retrieved data\n",
    "    artista_data = {\n",
    "        \"artista\": artista['artista'],\n",
    "        \"estilos\": artista['estilos']\n",
    "    }\n",
    "\n",
    "    # Do something with the retrieved data\n",
    "    # For example, print the JSON document\n",
    "    print(artista_data)"
   ]
  }
 ],
 "metadata": {
  "kernelspec": {
   "display_name": "Python 3",
   "language": "python",
   "name": "python3"
  },
  "language_info": {
   "codemirror_mode": {
    "name": "ipython",
    "version": 3
   },
   "file_extension": ".py",
   "mimetype": "text/x-python",
   "name": "python",
   "nbconvert_exporter": "python",
   "pygments_lexer": "ipython3",
   "version": "3.11.3"
  },
  "orig_nbformat": 4
 },
 "nbformat": 4,
 "nbformat_minor": 2
}
