{
 "cells": [
  {
   "attachments": {},
   "cell_type": "markdown",
   "metadata": {},
   "source": [
    "# **Proyecto Final BD_NR**"
   ]
  },
  {
   "attachments": {},
   "cell_type": "markdown",
   "metadata": {},
   "source": [
    "> **¿Qué hace este programa?** Realiza una descarga de la API del Art Institute of Chicago de hasta 1000 obras para descargarla a MongoDB, y luego, usando una máquina virtual, prender una instancia y pasar los datos a Neo4j."
   ]
  },
  {
   "attachments": {},
   "cell_type": "markdown",
   "metadata": {},
   "source": [
    "**INSTRUCCIONES** Corre la celda a continuación, llena los inputs deseados, y deja correr el resto de las celdas"
   ]
  },
  {
   "attachments": {},
   "cell_type": "markdown",
   "metadata": {},
   "source": [
    "## **1. Lectura de inputs**"
   ]
  },
  {
   "cell_type": "code",
   "execution_count": 1,
   "metadata": {},
   "outputs": [
    {
     "data": {
      "application/vnd.jupyter.widget-view+json": {
       "model_id": "68898d49923c4e8385da8e509e5d425f",
       "version_major": 2,
       "version_minor": 0
      },
      "text/plain": [
       "VBox(children=(Text(value='', description='BD:', layout=Layout(width='300px')), Text(value='', description='Co…"
      ]
     },
     "metadata": {},
     "output_type": "display_data"
    },
    {
     "name": "stdout",
     "output_type": "stream",
     "text": [
      "BD de Mongo: museum\n",
      "Colección de Mongo: artwork\n"
     ]
    }
   ],
   "source": [
    "from IPython.display import display\n",
    "import ipywidgets as widgets\n",
    "\n",
    "name_bd_mongo = widgets.Text(value='', description='BD:', layout=widgets.Layout(width='300px'))\n",
    "name_col_mongo = widgets.Text(value='', description='Colección:', layout=widgets.Layout(width='300px'))\n",
    "submit_button = widgets.Button(description='Submit')\n",
    "\n",
    "def submit_button_clicked(b):\n",
    "    global bd_mongo, col_mongo\n",
    "    bd_mongo = name_bd_mongo.value\n",
    "    col_mongo = name_col_mongo.value\n",
    "    print(\"BD de Mongo:\", bd_mongo)\n",
    "    print(\"Colección de Mongo:\", col_mongo)\n",
    "\n",
    "submit_button.on_click(submit_button_clicked)\n",
    "\n",
    "input_widgets = widgets.VBox([name_bd_mongo, name_col_mongo, submit_button])\n",
    "display(input_widgets)\n"
   ]
  },
  {
   "attachments": {},
   "cell_type": "markdown",
   "metadata": {},
   "source": [
    "## **2. Import de bibliotecas**"
   ]
  },
  {
   "cell_type": "code",
   "execution_count": 2,
   "metadata": {},
   "outputs": [],
   "source": [
    "import requests\n",
    "import pymongo\n",
    "from py2neo import Graph"
   ]
  },
  {
   "attachments": {},
   "cell_type": "markdown",
   "metadata": {},
   "source": [
    "## **3. Conexión API a MongoDB**"
   ]
  },
  {
   "attachments": {},
   "cell_type": "markdown",
   "metadata": {},
   "source": [
    "Conexión a la API del Art Institute de Chicago para descargar 1000 obras de arte en una base de MongoDB."
   ]
  },
  {
   "attachments": {},
   "cell_type": "markdown",
   "metadata": {},
   "source": [
    "**Descarga de obras de la API**"
   ]
  },
  {
   "cell_type": "code",
   "execution_count": 3,
   "metadata": {},
   "outputs": [],
   "source": [
    "# Crear un arreglo para guardar las obras de arte\n",
    "\n",
    "url = \"https://api.artic.edu/api/v1/artworks?limit=100\" # Descargar 500 obras\n",
    "response = requests.get(url)\n",
    "if response.status_code == 200:\n",
    "    data = response.json()\n",
    "else:\n",
    "    print(f'Error en la descarga {response.status_code}')\n",
    "    \n",
    "# Descargar solo los datos\n",
    "collection = data['data']"
   ]
  },
  {
   "cell_type": "code",
   "execution_count": 4,
   "metadata": {},
   "outputs": [
    {
     "data": {
      "text/plain": [
       "{'id': 11723,\n",
       " 'api_model': 'artworks',\n",
       " 'api_link': 'https://api.artic.edu/api/v1/artworks/11723',\n",
       " 'is_boosted': True,\n",
       " 'title': 'Woman at Her Toilette',\n",
       " 'alt_titles': None,\n",
       " 'thumbnail': {'lqip': 'data:image/gif;base64,R0lGODlhBwAFAPUAAE9MQV1XRl5YRmNdT2JgVGplV3RtW3JsX35wXW9rYHl3cX17eYJ4a4+Hd4GBfoaDf4iEfY6JgYmKhZuXjZWSkJaSkJydlpqZmZqamp+dmpqbnamelqCemqShk6Cgm6ujnK6nn7m0rbSzsgAAAAAAAAAAAAAAAAAAAAAAAAAAAAAAAAAAAAAAAAAAAAAAAAAAAAAAAAAAAAAAAAAAAAAAAAAAAAAAAAAAAAAAAAAAAAAAAAAAAAAAAAAAAAAAAAAAACH5BAAAAAAALAAAAAAHAAUAAAYhwABDYnBYOgTFAvHAcA6JyIZyyQwAFZHGMykIPiEQpBEEADs=',\n",
       "  'width': 4946,\n",
       "  'height': 3703,\n",
       "  'alt_text': 'Painted portrait dominated by loose, large brushstrokes of a woman, seen from the back, wearing a gauzy white off-the-shoulder dress and black choker, blond hair swept up, examining herself in a mirror at left. The background is a feathered swirl suggesting floral pattern in cool pale tones of gray, purple, pink, and blue.'},\n",
       " 'main_reference_number': '1924.127',\n",
       " 'has_not_been_viewed_much': False,\n",
       " 'boost_rank': None,\n",
       " 'date_start': 1870,\n",
       " 'date_end': 1880,\n",
       " 'date_display': '1875/80',\n",
       " 'date_qualifier_title': '',\n",
       " 'date_qualifier_id': None,\n",
       " 'artist_display': 'Berthe Morisot\\nFrench, 1841-1895',\n",
       " 'place_of_origin': 'France',\n",
       " 'dimensions': '60.3 × 80.4 cm (23 3/4 × 31 5/8 in.)',\n",
       " 'dimensions_detail': [{'depth_cm': 0,\n",
       "   'depth_in': 0,\n",
       "   'width_cm': 80.4,\n",
       "   'width_in': 31.625,\n",
       "   'height_cm': 60.3,\n",
       "   'height_in': 23.75,\n",
       "   'diameter_cm': 0,\n",
       "   'diameter_in': 0,\n",
       "   'clarification': None}],\n",
       " 'medium_display': 'Oil on canvas',\n",
       " 'inscriptions': 'Inscribed lower left: Berthe Morisot',\n",
       " 'credit_line': 'Stickney Fund',\n",
       " 'catalogue_display': None,\n",
       " 'publication_history': 'W. Dewhurst, “Impressionist Painting: Its Genesis and Development,” International Studio 19 (May, 1903), pp. 165, 168 (ill.).\\n\\nRoger Marx, “Les Femmes Peintres et l’impressionisme, Berthe Morisot,” Gazette des Beaux-Arts, per. 3, vol. 38 (December 1907), pp. 497 (ill.), 498.\\n\\nThe Art Institute of Chicago Annual Report 1924 (Chicago, 1924), ill.\\n\\nR.M.F., “ A Painting by Berthe Morisot,” The Art Institute of Chicago Bulletin 18 (1924), pp. 50, 51, (ill.)\\n\\nThe Art Institute of Chicago, A Guide to the Paintings in the Permanent Collection, (Chicago, 1925), p. 65 (ill.).\\n\\nMonique Angoulvent, Berthe Morisot (Paris, 1931), pp. 55, 121, no. 83.\\n\\nThe Art Institute of Chicago, Handbook (Chicago, 1932), pp. 62, ill. 164.\\n\\nD.C. Rich, “Französische Impressionisten im Art Institute zu Chicago,” Pantheon 11 (March 1933), pp. 77 (ill.),78.\\n\\nLionello Venturi, Les Archives de l’impressionisme vol. 2 (Paris, 1939), p. 257.\\n\\nHans Huth, “Impressionism Comes to America,” Gazette des Beaux-Arts, sér. 6, vol. 29 (April, 1946), pp. 225-252, fig. 17.\\n\\nThe Art Institute of Chicago, A Brief Guide to the Collections (Chicago, 1956), p. 34.  \\n\\nThe Art Institute of Chicago, Paintings in the Art Institute, A Catalogue of the Picture Collection (Chicago, 1961), pp. 340, ill. p. 288.\\n\\nM.-L. Bataille and Georges Wildenstein, Berthe Morisot: Catalogue des peintures, pastels, aquarelles (Paris, 1961), no. 84, pl. 37.\\n\\nJean Dominique Rey, Berthe Morisot (New York, 1982), pp. 29, 35 (ill.), 37, 51.\\n\\nRichard R. Brettell, French Impressionists (Chicago, 1987), pp. 24 (det. ill.), 25, 27 (ill.), 118.\\n\\nAnne Higonnet, Berthe Moristot’s Images of Women (Cambridge, 1992), pp. 106, 155, pl. 7.\\n\\nAlain Clairet et al., Berthe Morisot 1841-1895: Catalogue raisonné de l’oeuvre peint (Montolivet, 1997), no. 85 (ill.).\\n\\nWendy Slatkin, Women Artists in History: From Antiquity to the Present (Upper Saddle River, 1997), pp. 137-139 (ill.).\\n\\nRichard R. Brettell et al., Impression: Painting Quickly in France, 1860-1890, exh. cat.  (London, The National Gallery and Williamston, Mass., Sterling and Francine Clark Art Institute, 2001), p. 91 (ill.).\\n\\nRichard R. Brettell and Anne-Brigitte Fonsmark, Gauguin and Impressionism, exh. cat. (Copenhagen, Ordrugpgaard, 2005/Forth Worth, Kimbell Art Museum, 2005-6), p. 85, fig. 62.\\n\\nThe Age of Impressionism at the Art Institute of Chicago (New Haven and London, 2008), cat. 19, pp. 58–59 (ill.).\\n\\nSylvie Patry, ed., Inventing Impressionism: Paul Durand-Ruel and the Modern Market (London: National Gallery Company, 2015), 134-35 (detail ill.), 145 fig. 95, 260 cat. 60.\\n\\nKang, Cindy, et. al., Berthe Morisot: Woman Impressionist, exh. cat. (Rizzoli Electa, 2018), 76, 78, 91, 93, 110, cat. 30.\\n\\nJason Farago, \"Images for a Hazy New Age: Mapping a Transformation in the Depiction of Women,\" New York Times, Nov. 23, 2018, c20 ill.\\n\\nSylvie Patry in Berthe Morisot, exh. cat. (Paris: Flammarion, 2019), 81, 86-87 cat. 37.\\n\\nNicole R. Myers, \"Morisot et la ffemme moderne,\" in Berth Morisot, exh. cat. (Paris: Flammarion, 2019), 180.',\n",
       " 'exhibition_history': \"Possibly Paris, 2éme Exposition de Peinture (1), April 1876. [see D. Rouart, Correspondence de Berthe Morisot (Paris, 1950), pp. 98, 257]\\n\\nParis, 5me Expostition de Peinture, 1880, cat. 115.\\n\\nParis, Durand-Ruel, Berthe Morisot, Exposition de son oeuvre, March 1896, cat. 68.\\n\\nLondon, Durand-Ruel at the Grafton Galleries, A Selection From the Pictures by Boudin, Cézanne, Degas, Manet, Monet, Morisot, Pissarro, Renoir, Sisley, cat. 162 (ill.).\\n\\nPittsburgh, Penn., Carnegie Institute, Exhibition of Paintings Édouard Manet, Pierre Renoir, Berthe Morisot, October-December 1924, cat. 29 (ill.).\\n\\nThe Arts Club of Chicago, Exhibitions of Paintings of Three Woman Painters, November, 1931, not listed in cat.\\n\\nThe Art Institute of Chicago, A Century of Progress: Exhibition of Paintings and Sculpture, June 1-November 1, 1933, cat. 334 (ill.).\\n\\nThe Art Institute of Chicago, A Century of Progress: Exhibition of Paintings and Sculpture, June 1-November 1, 1934, cat. 257.\\n\\nThe Toledo Museum of Art, French Impressionists and Post-Impressionists, November 1934, cat. 11.\\n\\nNew York, The Metropolitan Museum of Art, French Painting from David to Toulouse-Lautrec, February-March 1941, cat. 95 (ill.).\\n\\nThe Arts Club of Chicago, Berthe Morisot, March-April 1943, cat. 1.\\n\\nNew York, Wildenstien and Co., Berthe Morisot, November-December 10, 1960, cat. 12 (ill.).\\n\\nNew York, Wildenstein and Co., Paris–New York: A Continuing Romance, November 3-December 19, 1977, cat. 76 (ill.).\\n\\nSouthampton, New York, The Parrish Art Museum, William Merritt Chase in the Company of Friends, May 12- July 29, 1979, cat. 79 (ill.). \\n\\nSt. Petersburg, Florida, Museum of Fine Arts, Paris in the Belle Epoque: People and Places, March 1-April 6, 1980, cat. 56 (ill.).\\n\\nAlbi, Musée Toulouse- Lautrec, Trésors impressionnistes du Musée de Chicago, June 27-August 31, 1980, cat. 23 (ill.).\\n\\nTokyo, The Seibu Museum of Art, The Impressionist Tradition: Masterpieces from the Art Institute of Chicago, October 18-December 17, 1985, cat. 21 (ill.), traveled to Fukuoka Art Museum, January 5-February 2, 1986 and Kyoto Municipal Museum of Art, March 4-April 13, 1986.\\n\\nWashington, D.C., National Gallery of Art, The New Painting: Impressionism 1874-1886, January 17- April 6, 1986, cat. 96 (ill.), traveled to the Fine Art Museum of San Francisco, M.H. de Young Memorial Museum, April 19- July 6, 1986.\\n\\nWashington, D.C., National Gallery of Art, Berthe Morisot: Impressionist, September 6-November 29, 1987, cat. 35 (ill.), traveled to Fort Worth, Kimbell Art Museum, December 12, 1987-February 21, 1988 and Mount Holyoke College Art Museum, March 14-May 9, 1988, shown in Washington and Forth Worth only.\\n\\nLeningrad [St. Petersburg], Hermitage Museum, Ot Delakrua do Matissa: shedevry frantsuzskoĭ zhivopici XIX-nachala XX veka, iz Muieia Metropoliten v Niu-Ĭorke i Khudozhestvennogo Instituta v Chikago [From Delacroix to Matisse: Great Paintings From the XIX century to the Beginning of the XXth century From Metropolitan Museum of Art in New York and the Art Institute of Chicago], March 15-May 19, 1988, cat. 18; Moscow, Pushkin Museum, June 10-July 30, 1988.\\n\\nLille, Palais de Beaux-Arts de Lille, Berthe Morisot 1841-1895, March 10-June 9, 2002, cat .49 (ill.), traveled to Martigny, Fondation Pierre Gianadda, June 20-November 19, 2002.\\n\\nCopenhagen, Ny Carlsberg Glyptotek, Woman in Impressionism: From Mythical Feminine to Modern Woman, October 6, 2006-January 21, 2007, cat. 71 (ill.).\\n\\nFort Worth, Tex., Kimbell Museum of Art, The Impressionists: Master Paintings from the Art Institute of Chicago, June 29–November 2, 2008, cat. 19 (ill.).\\n\\nParis, Musée Luxembourg, Inventing Impressionism: Paul Durand-Ruel and the Modern Market, October 9, 2014-February 8, 2015, cat. 60; London, National Gallery, March 4-May 31, 2015; Philadelphia Museum of Art, Inventing Impressionism, June 18-September 13, 2015.\\n\\nWilliamstown, MA, Clark Art Institute, Women Artists in Paris, June 8 - September 3, 2018\\n\\nPhiladelphia, Barnes Foundation, Berthe Morisot, Woman Impressionist, October 20, 2018 - January 14, 2019, cat. 30; Dallas, Dallas Museum of Art, February 24 - May 26, 2019; Paris, Musée d'Orsay, June 17 -  September 22, 2019, cat. 30.\\n\\nParis, Musée d'Orsay, Berthe Morisot, June 18-September 22, 2019, cat. 37.\",\n",
       " 'provenance_text': 'William Merritt Chase, New York; his sale, New York, American Art Galleries, 1896, lot 1093 [according to Clairet 1997].  Mary Cassatt, 1896 [see Paris 1896].  Durand-Ruel, Paris, 1905 [see London 1905].  Wildenstein & Co., New York [according to Chicago 1933]. Paul Rosenberg, New York by 1924; sold to the Art Institute, 1924.',\n",
       " 'edition': None,\n",
       " 'publishing_verification_level': 'Web Cataloged',\n",
       " 'internal_department_id': 14,\n",
       " 'fiscal_year': 1924,\n",
       " 'fiscal_year_deaccession': None,\n",
       " 'is_public_domain': True,\n",
       " 'is_zoomable': True,\n",
       " 'max_zoom_window_size': -1,\n",
       " 'copyright_notice': None,\n",
       " 'has_multimedia_resources': True,\n",
       " 'has_educational_resources': False,\n",
       " 'has_advanced_imaging': False,\n",
       " 'colorfulness': 16.6011,\n",
       " 'color': {'h': 207,\n",
       "  'l': 57,\n",
       "  's': 51,\n",
       "  'percentage': 0.0011279616041869934,\n",
       "  'population': 6},\n",
       " 'latitude': 41.8795584763067,\n",
       " 'longitude': -87.6232921901436,\n",
       " 'latlon': '41.879558476307,41.879558476307',\n",
       " 'is_on_view': False,\n",
       " 'on_loan_display': '<p>On loan to Dulwich Picture Gallery in Dulwich for <i>Berthe Morisot: Impressionism and the Eighteenth Century</i></p>',\n",
       " 'gallery_title': None,\n",
       " 'gallery_id': None,\n",
       " 'artwork_type_title': 'Painting',\n",
       " 'artwork_type_id': 1,\n",
       " 'department_title': 'Painting and Sculpture of Europe',\n",
       " 'department_id': 'PC-10',\n",
       " 'artist_id': 35834,\n",
       " 'artist_title': 'Berthe Morisot',\n",
       " 'alt_artist_ids': [],\n",
       " 'artist_ids': [35834],\n",
       " 'artist_titles': ['Berthe Morisot'],\n",
       " 'category_ids': ['PC-10', 'PC-831', 'PC-825'],\n",
       " 'category_titles': ['Painting and Sculpture of Europe',\n",
       "  'Essentials',\n",
       "  'Women artists'],\n",
       " 'term_titles': ['painting',\n",
       "  'oil painting',\n",
       "  'women',\n",
       "  'oil paint (paint)',\n",
       "  'Impressionism',\n",
       "  'painting (image making)',\n",
       "  'canvas',\n",
       "  'european painting',\n",
       "  'leisure',\n",
       "  'toilettes',\n",
       "  'mirrors',\n",
       "  'Century of Progress',\n",
       "  \"world's fairs\",\n",
       "  \"Chicago World's Fairs\"],\n",
       " 'style_id': 'TM-7543',\n",
       " 'style_title': 'Impressionism',\n",
       " 'alt_style_ids': [],\n",
       " 'style_ids': ['TM-7543'],\n",
       " 'style_titles': ['Impressionism'],\n",
       " 'classification_id': 'TM-9',\n",
       " 'classification_title': 'painting',\n",
       " 'alt_classification_ids': ['TM-54'],\n",
       " 'classification_ids': ['TM-9', 'TM-54'],\n",
       " 'classification_titles': ['painting', 'european painting'],\n",
       " 'subject_id': 'TM-8735',\n",
       " 'alt_subject_ids': ['TM-10094',\n",
       "  'TM-12297',\n",
       "  'TM-12258',\n",
       "  'TM-12169',\n",
       "  'TM-11299',\n",
       "  'TM-12176'],\n",
       " 'subject_ids': ['TM-8735',\n",
       "  'TM-10094',\n",
       "  'TM-12297',\n",
       "  'TM-12258',\n",
       "  'TM-12169',\n",
       "  'TM-11299',\n",
       "  'TM-12176'],\n",
       " 'subject_titles': ['women',\n",
       "  'leisure',\n",
       "  'toilettes',\n",
       "  'mirrors',\n",
       "  'Century of Progress',\n",
       "  \"world's fairs\",\n",
       "  \"Chicago World's Fairs\"],\n",
       " 'material_id': 'TM-2451',\n",
       " 'alt_material_ids': ['TM-3124'],\n",
       " 'material_ids': ['TM-2451', 'TM-3124'],\n",
       " 'material_titles': ['oil paint (paint)', 'canvas'],\n",
       " 'technique_id': 'TM-4273',\n",
       " 'alt_technique_ids': ['TM-3891'],\n",
       " 'technique_ids': ['TM-4273', 'TM-3891'],\n",
       " 'technique_titles': ['oil painting', 'painting (image making)'],\n",
       " 'theme_titles': ['Women artists', 'Essentials'],\n",
       " 'image_id': '78c80988-6524-cec7-c661-a4c0a706d06f',\n",
       " 'alt_image_ids': [],\n",
       " 'document_ids': ['2086435f-6c83-5e54-2fea-3b9f011f9c3f'],\n",
       " 'sound_ids': ['2086435f-6c83-5e54-2fea-3b9f011f9c3f'],\n",
       " 'video_ids': [],\n",
       " 'text_ids': [],\n",
       " 'section_ids': [],\n",
       " 'section_titles': [],\n",
       " 'site_ids': [],\n",
       " 'suggest_autocomplete_boosted': 'Woman at Her Toilette',\n",
       " 'suggest_autocomplete_all': [{'input': ['1924.127'],\n",
       "   'contexts': {'groupings': ['accession']}},\n",
       "  {'input': ['Woman at Her Toilette'],\n",
       "   'weight': 66851,\n",
       "   'contexts': {'groupings': ['title']}}],\n",
       " 'source_updated_at': '2023-05-20T00:30:05-05:00',\n",
       " 'updated_at': '2023-05-20T00:33:13-05:00',\n",
       " 'timestamp': '2023-05-20T13:44:35-05:00'}"
      ]
     },
     "execution_count": 4,
     "metadata": {},
     "output_type": "execute_result"
    }
   ],
   "source": [
    "collection[1]"
   ]
  },
  {
   "attachments": {},
   "cell_type": "markdown",
   "metadata": {},
   "source": [
    "**Revisar la estructura de cada JSON de una obra**"
   ]
  },
  {
   "attachments": {},
   "cell_type": "markdown",
   "metadata": {},
   "source": [
    "**Subir las obras a una nueva BD y colección en MongoDB**"
   ]
  },
  {
   "cell_type": "code",
   "execution_count": 5,
   "metadata": {},
   "outputs": [],
   "source": [
    "# Crear un cliente de MongoDB\n",
    "client = pymongo.MongoClient('mongodb://localhost:27017/')\n",
    "\n",
    "# Poner nombre a la BD\n",
    "db = client[bd_mongo]\n",
    "\n",
    "# Poner nombre a la conexión\n",
    "my_collection = db[col_mongo]\n",
    "insert_result = my_collection.insert_many(collection)"
   ]
  },
  {
   "attachments": {},
   "cell_type": "markdown",
   "metadata": {},
   "source": [
    "## **4. Conexión de MongoDB a Neo4j**"
   ]
  },
  {
   "attachments": {},
   "cell_type": "markdown",
   "metadata": {},
   "source": [
    "Conexión de los datos de MongoDB a Neo4j, para así poder crear una nueva base de grafos, relacionando obras de arte entre ellas."
   ]
  },
  {
   "cell_type": "code",
   "execution_count": null,
   "metadata": {},
   "outputs": [],
   "source": [
    "# Código"
   ]
  }
 ],
 "metadata": {
  "kernelspec": {
   "display_name": "Python 3",
   "language": "python",
   "name": "python3"
  },
  "language_info": {
   "codemirror_mode": {
    "name": "ipython",
    "version": 3
   },
   "file_extension": ".py",
   "mimetype": "text/x-python",
   "name": "python",
   "nbconvert_exporter": "python",
   "pygments_lexer": "ipython3",
   "version": "3.11.3"
  },
  "orig_nbformat": 4
 },
 "nbformat": 4,
 "nbformat_minor": 2
}
