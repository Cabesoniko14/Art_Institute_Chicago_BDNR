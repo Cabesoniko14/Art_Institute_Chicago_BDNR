{
 "cells": [
  {
   "attachments": {},
   "cell_type": "markdown",
   "metadata": {},
   "source": [
    "# **Proyecto Final BD_NR**"
   ]
  },
  {
   "attachments": {},
   "cell_type": "markdown",
   "metadata": {},
   "source": [
    "> **¿Qué hace este programa?** Realiza una descarga de la API del Art Institute of Chicago de hasta 1000 obras para descargarla a MongoDB, y luego, usando una máquina virtual, prender una instancia y pasar los datos a Neo4j."
   ]
  },
  {
   "attachments": {},
   "cell_type": "markdown",
   "metadata": {},
   "source": [
    "**INSTRUCCIONES** Corre la celda a continuación, llena los inputs deseados, y deja correr el resto de las celdas"
   ]
  },
  {
   "attachments": {},
   "cell_type": "markdown",
   "metadata": {},
   "source": [
    "## **1. Lectura de inputs**"
   ]
  },
  {
   "cell_type": "code",
   "execution_count": null,
   "metadata": {},
   "outputs": [],
   "source": [
    "from IPython.display import display\n",
    "import ipywidgets as widgets\n",
    "\n",
    "name_bd_mongo = widgets.Text(value='', description='BD:', layout=widgets.Layout(width='300px'))\n",
    "name_col_mongo = widgets.Text(value='', description='Colección:', layout=widgets.Layout(width='300px'))\n",
    "submit_button = widgets.Button(description='Submit')\n",
    "\n",
    "def submit_button_clicked(b):\n",
    "    global bd_mongo, col_mongo\n",
    "    bd_mongo = name_bd_mongo.value\n",
    "    col_mongo = name_col_mongo.value\n",
    "    print(\"BD de Mongo:\", bd_mongo)\n",
    "    print(\"Colección de Mongo:\", col_mongo)\n",
    "\n",
    "submit_button.on_click(submit_button_clicked)\n",
    "\n",
    "input_widgets = widgets.VBox([name_bd_mongo, name_col_mongo, submit_button])\n",
    "display(input_widgets)\n"
   ]
  },
  {
   "attachments": {},
   "cell_type": "markdown",
   "metadata": {},
   "source": [
    "## **2. Import de bibliotecas**"
   ]
  },
  {
   "cell_type": "code",
   "execution_count": 2,
   "metadata": {},
   "outputs": [],
   "source": [
    "import requests\n",
    "import pymongo\n",
    "from neo4j import GraphDatabase"
   ]
  },
  {
   "attachments": {},
   "cell_type": "markdown",
   "metadata": {},
   "source": [
    "## **3. Conexión API a MongoDB**"
   ]
  },
  {
   "attachments": {},
   "cell_type": "markdown",
   "metadata": {},
   "source": [
    "Conexión a la API del Art Institute de Chicago para descargar 1000 obras de arte en una base de MongoDB."
   ]
  },
  {
   "attachments": {},
   "cell_type": "markdown",
   "metadata": {},
   "source": [
    "**Descarga de obras de la API**"
   ]
  },
  {
   "cell_type": "code",
   "execution_count": null,
   "metadata": {},
   "outputs": [],
   "source": [
    "# Crear un arreglo para guardar las obras de arte\n",
    "\n",
    "url = \"https://api.artic.edu/api/v1/artworks?limit=100\" # Descargar 500 obras\n",
    "response = requests.get(url)\n",
    "if response.status_code == 200:\n",
    "    data = response.json()\n",
    "else:\n",
    "    print(f'Error en la descarga {response.status_code}')\n",
    "    \n",
    "# Descargar solo los datos\n",
    "collection = data['data']"
   ]
  },
  {
   "cell_type": "code",
   "execution_count": null,
   "metadata": {},
   "outputs": [],
   "source": [
    "collection[1]"
   ]
  },
  {
   "attachments": {},
   "cell_type": "markdown",
   "metadata": {},
   "source": [
    "**Revisar la estructura de cada JSON de una obra**"
   ]
  },
  {
   "attachments": {},
   "cell_type": "markdown",
   "metadata": {},
   "source": [
    "**Subir las obras a una nueva BD y colección en MongoDB**"
   ]
  },
  {
   "cell_type": "code",
   "execution_count": 4,
   "metadata": {},
   "outputs": [
    {
     "ename": "NameError",
     "evalue": "name 'bd_mongo' is not defined",
     "output_type": "error",
     "traceback": [
      "\u001b[0;31m---------------------------------------------------------------------------\u001b[0m",
      "\u001b[0;31mNameError\u001b[0m                                 Traceback (most recent call last)",
      "Cell \u001b[0;32mIn[4], line 5\u001b[0m\n\u001b[1;32m      2\u001b[0m client \u001b[39m=\u001b[39m pymongo\u001b[39m.\u001b[39mMongoClient(\u001b[39m'\u001b[39m\u001b[39mmongodb://localhost:27017/\u001b[39m\u001b[39m'\u001b[39m)\n\u001b[1;32m      4\u001b[0m \u001b[39m# Poner nombre a la BD\u001b[39;00m\n\u001b[0;32m----> 5\u001b[0m db \u001b[39m=\u001b[39m client[bd_mongo]\n\u001b[1;32m      7\u001b[0m \u001b[39m# Poner nombre a la conexión\u001b[39;00m\n\u001b[1;32m      8\u001b[0m my_collection \u001b[39m=\u001b[39m db[col_mongo]\n",
      "\u001b[0;31mNameError\u001b[0m: name 'bd_mongo' is not defined"
     ]
    }
   ],
   "source": [
    "# Crear un cliente de MongoDB\n",
    "client = pymongo.MongoClient('mongodb://localhost:27017/')\n",
    "\n",
    "# Poner nombre a la BD\n",
    "db = client[bd_mongo]\n",
    "\n",
    "# Poner nombre a la conexión\n",
    "my_collection = db[col_mongo]\n",
    "insert_result = my_collection.insert_many(collection)"
   ]
  },
  {
   "attachments": {},
   "cell_type": "markdown",
   "metadata": {},
   "source": [
    "## **4. Conexión de MongoDB a Neo4j**"
   ]
  },
  {
   "attachments": {},
   "cell_type": "markdown",
   "metadata": {},
   "source": [
    "Conexión de los datos de MongoDB a Neo4j, para así poder crear una nueva base de grafos, relacionando obras de arte entre ellas."
   ]
  },
  {
   "cell_type": "code",
   "execution_count": 3,
   "metadata": {},
   "outputs": [],
   "source": [
    "# Conectarse a Neo4j\n",
    "\n",
    "neo_driver = GraphDatabase.driver('bolt://localhost:7687', auth=('neo4j', 'Putopacman14'))"
   ]
  },
  {
   "cell_type": "code",
   "execution_count": 5,
   "metadata": {},
   "outputs": [],
   "source": [
    "# Crear un cliente de MongoDB\n",
    "client = pymongo.MongoClient('mongodb://localhost:27017/')\n",
    "\n",
    "# Poner nombre a la BD\n",
    "db = client[\"museum\"]\n",
    "\n",
    "# Poner nombre a la conexión\n",
    "my_collection = db[\"artwork\"]"
   ]
  },
  {
   "attachments": {},
   "cell_type": "markdown",
   "metadata": {},
   "source": [
    "### **4.1. Conseguir entidades**"
   ]
  },
  {
   "cell_type": "code",
   "execution_count": 6,
   "metadata": {},
   "outputs": [],
   "source": [
    "# Artistas\n",
    "pipeline_artists = [\n",
    "    {\"$group\": {\"_id\": \"$artist_title\"}},\n",
    "    {\"$project\": {\"_id\": 0, \"artista\": \"$_id\"}},\n",
    "    {\"$sort\": {\"artista\": 1}}\n",
    "]\n",
    "\n",
    "artistas = my_collection.aggregate(pipeline_artists)\n",
    "\n",
    "# Obras\n",
    "\n",
    "pipeline_obras = [{ \"$project\": {\n",
    "      \"nombre\": \"$title\",\n",
    "      \"id\": \"$id\",\n",
    "      \"lugar_origen\": \"$place_of_origin\",\n",
    "      \"artista\": \"$artist_title\",\n",
    "      \"estilo\": \"$style_title\",\n",
    "      \"tipo\": \"$medium_display\",\n",
    "      \"_id\": 0\n",
    "    }\n",
    "  }\n",
    "]\n",
    "\n",
    "\n",
    "obras = my_collection.aggregate(pipeline_obras)\n",
    "\n",
    "\n",
    "# Lugares\n",
    "\n",
    "pipeline_lugares = [\n",
    "  {\"$group\": {\"_id\": \"$place_of_origin\"}},\n",
    "  {\"$project\":{\"_id\":0, \"lugar\":\"$_id\"}},\n",
    "  {\"$sort\":{\"lugar\":1}}\n",
    "]\n",
    "\n",
    "\n",
    "lugares = my_collection.aggregate(pipeline_lugares)\n",
    "\n",
    "\n",
    "# Estilo\n",
    "\n",
    "pipeline_estilos = [\n",
    "  {\"$group\": {\"_id\": \"$style_title\"}},\n",
    "  {\"$project\":{\"_id\":0, \"estilo\":\"$_id\"}},\n",
    "  {\"$sort\":{\"estilo\":1}}\n",
    "]\n",
    "\n",
    "\n",
    "estilos = my_collection.aggregate(pipeline_estilos)\n"
   ]
  }
 ],
 "metadata": {
  "kernelspec": {
   "display_name": "Python 3",
   "language": "python",
   "name": "python3"
  },
  "language_info": {
   "codemirror_mode": {
    "name": "ipython",
    "version": 3
   },
   "file_extension": ".py",
   "mimetype": "text/x-python",
   "name": "python",
   "nbconvert_exporter": "python",
   "pygments_lexer": "ipython3",
   "version": "3.11.3"
  },
  "orig_nbformat": 4
 },
 "nbformat": 4,
 "nbformat_minor": 2
}
