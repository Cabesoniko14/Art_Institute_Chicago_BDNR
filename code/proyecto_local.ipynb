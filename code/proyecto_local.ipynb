{
 "cells": [
  {
   "attachments": {},
   "cell_type": "markdown",
   "metadata": {},
   "source": [
    "# **Proyecto Final BD_NR**"
   ]
  },
  {
   "attachments": {},
   "cell_type": "markdown",
   "metadata": {},
   "source": [
    "> **¿Qué hace este programa?** Realiza una descarga de la API del Art Institute of Chicago de hasta 1000 obras para descargarla a MongoDB, y luego, usando una máquina virtual, prender una instancia y pasar los datos a Neo4j."
   ]
  },
  {
   "attachments": {},
   "cell_type": "markdown",
   "metadata": {},
   "source": [
    "**INSTRUCCIONES** Corre la celda a continuación, llena los inputs deseados, y deja correr el resto de las celdas"
   ]
  },
  {
   "attachments": {},
   "cell_type": "markdown",
   "metadata": {},
   "source": [
    "## **1. Lectura de inputs**"
   ]
  },
  {
   "cell_type": "code",
   "execution_count": 1,
   "metadata": {},
   "outputs": [
    {
     "data": {
      "application/vnd.jupyter.widget-view+json": {
       "model_id": "a45419ba77d44cf3a70f36f62f6d08b3",
       "version_major": 2,
       "version_minor": 0
      },
      "text/plain": [
       "VBox(children=(Text(value='', description='BD:', layout=Layout(width='600px')), Text(value='', description='Co…"
      ]
     },
     "metadata": {},
     "output_type": "display_data"
    }
   ],
   "source": [
    "from IPython.display import display\n",
    "import ipywidgets as widgets\n",
    "\n",
    "name_bd_mongo = widgets.Text(value='', description='BD:', layout=widgets.Layout(width='600px'))\n",
    "name_col_mongo = widgets.Text(value='', description='Colección:', layout=widgets.Layout(width='600px'))\n",
    "user_neo4j_box = widgets.Text(value='', description='User Neo4j:', layout=widgets.Layout(width='600px'))\n",
    "password_neo4j_box = widgets.Text(value='', description='Password Neo4j:', layout=widgets.Layout(width='600px'))\n",
    "local_box = widgets.Text(value='', description='Public IPv4 AWS:', layout=widgets.Layout(width='600px'))\n",
    "submit_button = widgets.Button(description='Submit')\n",
    "\n",
    "def submit_button_clicked(b):\n",
    "    global bd_mongo, col_mongo, user_neo, password_neo, localhost\n",
    "    bd_mongo = name_bd_mongo.value\n",
    "    col_mongo = name_col_mongo.value\n",
    "    user_neo = user_neo4j_box.value\n",
    "    password_neo = password_neo4j_box.value\n",
    "    localhost = local_box.value\n",
    "    print(\"BD de Mongo:\", bd_mongo)\n",
    "    print(\"Colección de Mongo:\", col_mongo)\n",
    "    print(\"Usuario de Neo4j:\", user_neo)\n",
    "    print(\"Password de Neo4j:\", password_neo)\n",
    "    print(\"Public IPv4 de instancia:\", localhost)\n",
    "\n",
    "submit_button.on_click(submit_button_clicked)\n",
    "\n",
    "input_widgets = widgets.VBox([name_bd_mongo, name_col_mongo,  user_neo4j_box, password_neo4j_box, local_box,submit_button])\n",
    "display(input_widgets)\n",
    " "
   ]
  },
  {
   "attachments": {},
   "cell_type": "markdown",
   "metadata": {},
   "source": [
    "## **2. Import de bibliotecas**"
   ]
  },
  {
   "cell_type": "code",
   "execution_count": 8,
   "metadata": {},
   "outputs": [],
   "source": [
    "from pprint import pprint\n",
    "import requests\n",
    "import pymongo\n",
    "from neo4j import GraphDatabase"
   ]
  },
  {
   "attachments": {},
   "cell_type": "markdown",
   "metadata": {},
   "source": [
    "## **3. Conexión API a MongoDB**"
   ]
  },
  {
   "attachments": {},
   "cell_type": "markdown",
   "metadata": {},
   "source": [
    "Conexión a la API del Art Institute de Chicago para descargar 1000 obras de arte en una base de MongoDB."
   ]
  },
  {
   "attachments": {},
   "cell_type": "markdown",
   "metadata": {},
   "source": [
    "**Descarga de obras de la API**"
   ]
  },
  {
   "cell_type": "code",
   "execution_count": null,
   "metadata": {},
   "outputs": [],
   "source": [
    "# Crear un arreglo para guardar las obras de arte\n",
    "\n",
    "url = \"https://api.artic.edu/api/v1/artworks?limit=100\" # Descargar 500 obras\n",
    "response = requests.get(url)\n",
    "if response.status_code == 200:\n",
    "    data = response.json()\n",
    "else:\n",
    "    print(f'Error en la descarga {response.status_code}')\n",
    "    \n",
    "# Descargar solo los datos\n",
    "collection = data['data']"
   ]
  },
  {
   "cell_type": "code",
   "execution_count": null,
   "metadata": {},
   "outputs": [],
   "source": [
    "collection[1]"
   ]
  },
  {
   "attachments": {},
   "cell_type": "markdown",
   "metadata": {},
   "source": [
    "**Revisar la estructura de cada JSON de una obra**"
   ]
  },
  {
   "attachments": {},
   "cell_type": "markdown",
   "metadata": {},
   "source": [
    "**Subir las obras a una nueva BD y colección en MongoDB**"
   ]
  },
  {
   "cell_type": "code",
   "execution_count": 2,
   "metadata": {},
   "outputs": [
    {
     "ename": "NameError",
     "evalue": "name 'bd_mongo' is not defined",
     "output_type": "error",
     "traceback": [
      "\u001b[0;31m---------------------------------------------------------------------------\u001b[0m",
      "\u001b[0;31mNameError\u001b[0m                                 Traceback (most recent call last)",
      "Cell \u001b[0;32mIn[2], line 5\u001b[0m\n\u001b[1;32m      2\u001b[0m client \u001b[39m=\u001b[39m pymongo\u001b[39m.\u001b[39mMongoClient(\u001b[39m'\u001b[39m\u001b[39mmongodb://localhost:27017/\u001b[39m\u001b[39m'\u001b[39m)\n\u001b[1;32m      4\u001b[0m \u001b[39m# Poner nombre a la BD\u001b[39;00m\n\u001b[0;32m----> 5\u001b[0m db \u001b[39m=\u001b[39m client[bd_mongo]\n\u001b[1;32m      7\u001b[0m \u001b[39m# Poner nombre a la conexión\u001b[39;00m\n\u001b[1;32m      8\u001b[0m my_collection \u001b[39m=\u001b[39m db[col_mongo]\n",
      "\u001b[0;31mNameError\u001b[0m: name 'bd_mongo' is not defined"
     ]
    }
   ],
   "source": [
    "# Crear un cliente de MongoDB\n",
    "client = pymongo.MongoClient('mongodb://localhost:27017/')\n",
    "\n",
    "# Poner nombre a la BD\n",
    "db = client[bd_mongo]\n",
    "\n",
    "# Poner nombre a la conexión\n",
    "my_collection = db[col_mongo]\n",
    "insert_result = my_collection.insert_many(my_collection)"
   ]
  },
  {
   "attachments": {},
   "cell_type": "markdown",
   "metadata": {},
   "source": [
    "## **4. Queries de MongoDB**"
   ]
  },
  {
   "cell_type": "code",
   "execution_count": 5,
   "metadata": {},
   "outputs": [],
   "source": [
    "# Crear un cliente de MongoDB\n",
    "client = pymongo.MongoClient('mongodb://localhost:27017/')\n",
    "\n",
    "# Poner nombre a la BD\n",
    "db = client['museum']\n",
    "\n",
    "# Poner nombre a la conexión\n",
    "my_collection = db['artwork']"
   ]
  },
  {
   "attachments": {},
   "cell_type": "markdown",
   "metadata": {},
   "source": [
    "En esta sección, incluimos tres queries avanzados para nuestra BD de Mongo."
   ]
  },
  {
   "attachments": {},
   "cell_type": "markdown",
   "metadata": {},
   "source": [
    "**Query 1**"
   ]
  },
  {
   "attachments": {},
   "cell_type": "markdown",
   "metadata": {},
   "source": [
    "> Explicación: "
   ]
  },
  {
   "cell_type": "code",
   "execution_count": 24,
   "metadata": {},
   "outputs": [],
   "source": [
    "# pipeline del query\n",
    "\n",
    "pipeline1 = [\n",
    "    {\n",
    "        '$group': {\n",
    "            '_id': {\n",
    "                'artist': '$artist_title'\n",
    "            },\n",
    "            'conteo_estilos': {\n",
    "                '$addToSet': '$style_title'\n",
    "            }\n",
    "        }\n",
    "    },\n",
    "    {\n",
    "        '$project': {\n",
    "            '_id': 0,\n",
    "            'artista': '$_id.artist',\n",
    "            'conteo_estilos': { '$size': '$conteo_estilos' }\n",
    "        }\n",
    "    },\n",
    "    {\n",
    "        '$sort': {\n",
    "            'conteo_estilos': -1,\n",
    "        }\n",
    "    },{\n",
    "        '$limit': 5\n",
    "    }\n",
    "]\n",
    "\n",
    "# Query\n",
    "\n",
    "result1 = my_collection.aggregate(pipeline1)"
   ]
  },
  {
   "attachments": {},
   "cell_type": "markdown",
   "metadata": {},
   "source": [
    "Print de los resultados"
   ]
  },
  {
   "cell_type": "code",
   "execution_count": 25,
   "metadata": {},
   "outputs": [
    {
     "name": "stdout",
     "output_type": "stream",
     "text": [
      "{'artista': None, 'conteo_estilos': 3}\n",
      "{'artista': 'Vija Celmins', 'conteo_estilos': 2}\n",
      "{'artista': 'Hilaire Germain Edgar Degas', 'conteo_estilos': 2}\n",
      "{'artista': \"Georgia O'Keeffe\", 'conteo_estilos': 2}\n",
      "{'artista': 'Édouard Manet', 'conteo_estilos': 2}\n"
     ]
    }
   ],
   "source": [
    "for document in result1:\n",
    "    pprint(document)\n"
   ]
  },
  {
   "attachments": {},
   "cell_type": "markdown",
   "metadata": {},
   "source": [
    "**Query 2**"
   ]
  },
  {
   "attachments": {},
   "cell_type": "markdown",
   "metadata": {},
   "source": [
    "> Explicación: por cada artista, enlistar todos los años de publicación de una obra."
   ]
  },
  {
   "cell_type": "code",
   "execution_count": 14,
   "metadata": {},
   "outputs": [],
   "source": [
    "pipeline2 = [\n",
    "    {\"$group\": {\"_id\": \"$artist_title\", \"fechas_display\": {\"$push\": \"$date_display\"}}},\n",
    "    {\"$project\": {\"_id\": 0, \"artista\": \"$_id\", \"fechas_display\": 1}},\n",
    "    {\"$sort\": {\"artista\": 1}}\n",
    "]\n",
    "\n",
    "result2 = my_collection.aggregate(pipeline2)\n"
   ]
  },
  {
   "attachments": {},
   "cell_type": "markdown",
   "metadata": {},
   "source": [
    "Print de los resultados"
   ]
  },
  {
   "cell_type": "code",
   "execution_count": 15,
   "metadata": {},
   "outputs": [
    {
     "name": "stdout",
     "output_type": "stream",
     "text": [
      "{'artista': None,\n",
      " 'fechas_display': ['17th century',\n",
      "                    'first half of 17th century',\n",
      "                    'c. 1570/90',\n",
      "                    '1570/80',\n",
      "                    '1550',\n",
      "                    'late 16th century/early 17th century',\n",
      "                    '17th century',\n",
      "                    'c. 10th/11th century',\n",
      "                    '10th century',\n",
      "                    '1963, first entry dated 1970',\n",
      "                    'c. 10th/11th century']}\n",
      "{'artista': 'Aleksandr Mikhailovich Rodchenko', 'fechas_display': ['1936']}\n",
      "{'artista': 'Ancient Egyptian', 'fechas_display': ['Late Period (664–332 BCE)']}\n",
      "{'artista': 'Ancient Roman', 'fechas_display': ['about 1st century CE']}\n",
      "{'artista': 'Baccarat Glassworks',\n",
      " 'fechas_display': ['c. 1845–60',\n",
      "                    'c. 1848–55',\n",
      "                    'c. 1848–55',\n",
      "                    'c. 1848–55',\n",
      "                    'c. 1846–55']}\n",
      "{'artista': 'Balthus', 'fechas_display': ['1943']}\n",
      "{'artista': 'Berthe Morisot', 'fechas_display': ['1875/80']}\n",
      "{'artista': 'Bill Brandt', 'fechas_display': ['1963']}\n",
      "{'artista': 'Claude Monet', 'fechas_display': ['1897', '1873']}\n",
      "{'artista': 'Clichy Glasshouse', 'fechas_display': ['c. 1846–55']}\n",
      "{'artista': 'Compagnie de Saint Louis',\n",
      " 'fechas_display': ['c. 1848–55', 'c. 1848/55', 'c. 1846–55', 'c. 1845–60']}\n",
      "{'artista': 'Diego Rivera', 'fechas_display': ['1936']}\n",
      "{'artista': 'Diego Velázquez', 'fechas_display': ['1618/20']}\n",
      "{'artista': 'Doris Salcedo', 'fechas_display': ['1992']}\n",
      "{'artista': 'Dorothy Liebes', 'fechas_display': ['1948']}\n",
      "{'artista': 'Ernest Cole', 'fechas_display': ['c. 1965', 'c 1965', 'c. 1965']}\n",
      "{'artista': 'Eugène Delacroix', 'fechas_display': ['1849/50', '1828']}\n",
      "{'artista': 'Gego (Gertrud Goldschmidt)', 'fechas_display': ['1985']}\n",
      "{'artista': 'Georges Braque',\n",
      " 'fechas_display': ['1911, published 1912', '1911, printed 1950']}\n",
      "{'artista': \"Georgia O'Keeffe\", 'fechas_display': ['1960', '1943']}\n",
      "{'artista': 'Guido Reni', 'fechas_display': ['c. 1639–42']}\n",
      "{'artista': 'Hilaire Germain Edgar Degas',\n",
      " 'fechas_display': ['c. 1879-86', 'c. 1867', '1885']}\n",
      "{'artista': 'Ilse Bing',\n",
      " 'fechas_display': ['1931',\n",
      "                    '1931',\n",
      "                    '1931',\n",
      "                    '1931',\n",
      "                    '1931',\n",
      "                    '1931',\n",
      "                    '1931',\n",
      "                    '1932',\n",
      "                    '1928',\n",
      "                    '1936',\n",
      "                    '1936',\n",
      "                    '1931, printed 1941',\n",
      "                    'c. 1929',\n",
      "                    '1932',\n",
      "                    '1948',\n",
      "                    '1930']}\n",
      "{'artista': 'Jack Whitten', 'fechas_display': ['1978']}\n",
      "{'artista': 'John Henry Dearle',\n",
      " 'fechas_display': ['Design 1887–90; made 1887–1917']}\n",
      "{'artista': 'Joseph Cornell', 'fechas_display': ['c. 1958']}\n",
      "{'artista': 'Kalo Shop (Firm)', 'fechas_display': ['1920/21']}\n",
      "{'artista': 'Keith Haring', 'fechas_display': ['1981']}\n",
      "{'artista': 'Lilla Cabot Perry', 'fechas_display': ['1895']}\n",
      "{'artista': 'Magdalena Abakanowicz', 'fechas_display': ['1966']}\n",
      "{'artista': 'Marc Riboud', 'fechas_display': ['1960', '1960']}\n",
      "{'artista': 'Margret Craver', 'fechas_display': ['1938']}\n",
      "{'artista': 'Marie Laurencin', 'fechas_display': ['1926']}\n",
      "{'artista': 'Martin Wong', 'fechas_display': ['1983']}\n",
      "{'artista': 'Martta Taipale', 'fechas_display': ['c. 1954']}\n",
      "{'artista': 'Mary Cassatt', 'fechas_display': ['1878–79']}\n",
      "{'artista': 'Moche', 'fechas_display': ['100 BCE/500 CE']}\n",
      "{'artista': 'Nan Goldin', 'fechas_display': ['1979/2001']}\n",
      "{'artista': 'Nicole Eisenman', 'fechas_display': ['2011']}\n",
      "{'artista': 'Pablo Picasso', 'fechas_display': ['1964', '1911/12']}\n",
      "{'artista': 'Paul Gauguin', 'fechas_display': ['1892', '1894']}\n",
      "{'artista': 'Paul Strand', 'fechas_display': ['1963, printed 1980']}\n",
      "{'artista': 'Peer Smed', 'fechas_display': ['1931']}\n",
      "{'artista': 'Philip Guston', 'fechas_display': ['1977']}\n",
      "{'artista': 'Picardie School', 'fechas_display': ['1275/1300']}\n",
      "{'artista': 'Pierre Bonnard', 'fechas_display': ['1939']}\n",
      "{'artista': 'Pierre Puvis de Chavannes', 'fechas_display': ['1884/89']}\n",
      "{'artista': 'Robert Motherwell', 'fechas_display': ['1944']}\n",
      "{'artista': 'Rosemarie Trockel', 'fechas_display': ['2006']}\n",
      "{'artista': 'Sonia Delaunay-Terk', 'fechas_display': ['1977 (designed 1920)']}\n",
      "{'artista': 'Vija Celmins', 'fechas_display': ['1966', '1977/2014-16']}\n",
      "{'artista': 'Vincent van Gogh', 'fechas_display': ['1890', '1889']}\n",
      "{'artista': 'Édouard Manet', 'fechas_display': ['1858/60', '1866', '1866-67']}\n"
     ]
    }
   ],
   "source": [
    "for doc in result1:\n",
    "    pprint(doc)"
   ]
  },
  {
   "attachments": {},
   "cell_type": "markdown",
   "metadata": {},
   "source": [
    "**Query 3**"
   ]
  },
  {
   "attachments": {},
   "cell_type": "markdown",
   "metadata": {},
   "source": [
    "> Explicación: ordenar de menor a mayor, el promedio del ancho de las pinturas de cada artista"
   ]
  },
  {
   "cell_type": "code",
   "execution_count": 38,
   "metadata": {},
   "outputs": [],
   "source": [
    "pipeline3 = [\n",
    "    {\n",
    "        '$group': {\n",
    "            '_id': {\n",
    "                'artista': '$artist_title'\n",
    "            },\n",
    "            'promedio_tamaños': {\n",
    "                '$avg': '$thumbnail.width'\n",
    "            }\n",
    "        }\n",
    "    },\n",
    "    {\n",
    "        '$project': {\n",
    "            '_id': 0,\n",
    "            'artista': '$_id.artista',\n",
    "            'promedio_tamaño': '$promedio_tamaños'\n",
    "        }\n",
    "    },\n",
    "    {\n",
    "        '$sort': {\n",
    "            'promedio_tamaño': 1,\n",
    "        }\n",
    "    }\n",
    "]\n",
    "\n",
    "result3 = my_collection.aggregate(pipeline3)\n"
   ]
  },
  {
   "cell_type": "code",
   "execution_count": 39,
   "metadata": {},
   "outputs": [
    {
     "name": "stdout",
     "output_type": "stream",
     "text": [
      "{'artista': 'Bill Brandt', 'promedio_tamaño': None}\n",
      "{'artista': 'Sonia Delaunay-Terk', 'promedio_tamaño': 1115.0}\n",
      "{'artista': 'Moche', 'promedio_tamaño': 1500.0}\n",
      "{'artista': 'Guido Reni', 'promedio_tamaño': 1581.0}\n",
      "{'artista': 'Eugène Delacroix', 'promedio_tamaño': 1921.5}\n",
      "{'artista': 'Georges Braque', 'promedio_tamaño': 2035.5}\n",
      "{'artista': 'Marc Riboud', 'promedio_tamaño': 2065.0}\n",
      "{'artista': 'Pierre Bonnard', 'promedio_tamaño': 2221.0}\n",
      "{'artista': 'Peer Smed', 'promedio_tamaño': 2250.0}\n",
      "{'artista': 'Compagnie de Saint Louis', 'promedio_tamaño': 2289.5}\n",
      "{'artista': 'Baccarat Glassworks', 'promedio_tamaño': 2333.4}\n",
      "{'artista': 'Clichy Glasshouse', 'promedio_tamaño': 2388.0}\n",
      "{'artista': 'Paul Strand', 'promedio_tamaño': 2436.0}\n",
      "{'artista': 'Jack Whitten', 'promedio_tamaño': 2617.0}\n",
      "{'artista': 'John Henry Dearle', 'promedio_tamaño': 2629.0}\n",
      "{'artista': 'Hilaire Germain Edgar Degas',\n",
      " 'promedio_tamaño': 2850.3333333333335}\n",
      "{'artista': 'Dorothy Liebes', 'promedio_tamaño': 2928.0}\n",
      "{'artista': 'Aleksandr Mikhailovich Rodchenko', 'promedio_tamaño': 3000.0}\n",
      "{'artista': 'Doris Salcedo', 'promedio_tamaño': 3000.0}\n",
      "{'artista': 'Pierre Puvis de Chavannes', 'promedio_tamaño': 3000.0}\n",
      "{'artista': 'Diego Velázquez', 'promedio_tamaño': 3000.0}\n",
      "{'artista': 'Margret Craver', 'promedio_tamaño': 3000.0}\n",
      "{'artista': 'Ilse Bing', 'promedio_tamaño': 3225.6875}\n",
      "{'artista': 'Nan Goldin', 'promedio_tamaño': 3395.0}\n",
      "{'artista': 'Picardie School', 'promedio_tamaño': 3470.0}\n",
      "{'artista': None, 'promedio_tamaño': 3606.6}\n",
      "{'artista': 'Ernest Cole', 'promedio_tamaño': 3626.6666666666665}\n",
      "{'artista': 'Kalo Shop (Firm)', 'promedio_tamaño': 4035.0}\n",
      "{'artista': 'Rosemarie Trockel', 'promedio_tamaño': 4080.0}\n",
      "{'artista': 'Ancient Egyptian', 'promedio_tamaño': 4126.0}\n",
      "{'artista': 'Magdalena Abakanowicz', 'promedio_tamaño': 4276.0}\n",
      "{'artista': 'Pablo Picasso', 'promedio_tamaño': 4470.0}\n",
      "{'artista': 'Joseph Cornell', 'promedio_tamaño': 4624.0}\n",
      "{'artista': 'Martta Taipale', 'promedio_tamaño': 4902.0}\n",
      "{'artista': 'Berthe Morisot', 'promedio_tamaño': 4946.0}\n",
      "{'artista': 'Gego (Gertrud Goldschmidt)', 'promedio_tamaño': 5076.0}\n",
      "{'artista': 'Ancient Roman', 'promedio_tamaño': 5247.0}\n",
      "{'artista': 'Vincent van Gogh', 'promedio_tamaño': 5287.5}\n",
      "{'artista': 'Philip Guston', 'promedio_tamaño': 5519.0}\n",
      "{'artista': 'Claude Monet', 'promedio_tamaño': 5590.5}\n",
      "{'artista': 'Keith Haring', 'promedio_tamaño': 5616.0}\n",
      "{'artista': 'Vija Celmins', 'promedio_tamaño': 5751.5}\n",
      "{'artista': 'Nicole Eisenman', 'promedio_tamaño': 5859.0}\n",
      "{'artista': \"Georgia O'Keeffe\", 'promedio_tamaño': 6203.5}\n",
      "{'artista': 'Marie Laurencin', 'promedio_tamaño': 6572.0}\n",
      "{'artista': 'Paul Gauguin', 'promedio_tamaño': 6746.0}\n",
      "{'artista': 'Édouard Manet', 'promedio_tamaño': 9058.666666666666}\n",
      "{'artista': 'Mary Cassatt', 'promedio_tamaño': 9148.0}\n",
      "{'artista': 'Balthus', 'promedio_tamaño': 9316.0}\n",
      "{'artista': 'Diego Rivera', 'promedio_tamaño': 9578.0}\n",
      "{'artista': 'Robert Motherwell', 'promedio_tamaño': 13096.0}\n",
      "{'artista': 'Lilla Cabot Perry', 'promedio_tamaño': 13166.0}\n",
      "{'artista': 'Martin Wong', 'promedio_tamaño': 13995.0}\n"
     ]
    }
   ],
   "source": [
    "for i in result3:\n",
    "    pprint(i)"
   ]
  },
  {
   "attachments": {},
   "cell_type": "markdown",
   "metadata": {},
   "source": [
    "## **4. Conexión de MongoDB a Neo4j**"
   ]
  },
  {
   "attachments": {},
   "cell_type": "markdown",
   "metadata": {},
   "source": [
    "Conexión de los datos de MongoDB a Neo4j, para así poder crear una nueva base de grafos, relacionando obras de arte entre ellas."
   ]
  },
  {
   "cell_type": "code",
   "execution_count": 3,
   "metadata": {},
   "outputs": [],
   "source": [
    "# Conectarse a Neo4j\n",
    "\n",
    "link = 'bolt://' + localhost + ':7687'\n",
    "\n",
    "neo_driver = GraphDatabase.driver('bolt://localhost:7687', auth=(user_neo, password_neo))"
   ]
  },
  {
   "attachments": {},
   "cell_type": "markdown",
   "metadata": {},
   "source": [
    "### **4.1. Conseguir entidades**"
   ]
  },
  {
   "cell_type": "code",
   "execution_count": 6,
   "metadata": {},
   "outputs": [],
   "source": [
    "# Artistas\n",
    "pipeline_artists = [\n",
    "    {\"$group\": {\"_id\": \"$artist_title\"}},\n",
    "    {\"$project\": {\"_id\": 0, \"artista\": \"$_id\"}},\n",
    "    {\"$sort\": {\"artista\": 1}}\n",
    "]\n",
    "\n",
    "artistas = my_collection.aggregate(pipeline_artists)\n",
    "\n",
    "# Obras\n",
    "\n",
    "pipeline_obras = [{ \"$project\": {\n",
    "      \"nombre\": \"$title\",\n",
    "      \"id\": \"$id\",\n",
    "      \"lugar_origen\": \"$place_of_origin\",\n",
    "      \"artista\": \"$artist_title\",\n",
    "      \"estilo\": \"$style_title\",\n",
    "      \"tipo\": \"$medium_display\",\n",
    "      \"_id\": 0\n",
    "    }\n",
    "  }\n",
    "]\n",
    "\n",
    "\n",
    "obras = my_collection.aggregate(pipeline_obras)\n",
    "\n",
    "\n",
    "# Lugares\n",
    "\n",
    "pipeline_lugares = [\n",
    "  {\"$group\": {\"_id\": \"$place_of_origin\"}},\n",
    "  {\"$project\":{\"_id\":0, \"lugar\":\"$_id\"}},\n",
    "  {\"$sort\":{\"lugar\":1}}\n",
    "]\n",
    "\n",
    "\n",
    "lugares = my_collection.aggregate(pipeline_lugares)\n",
    "\n",
    "\n",
    "# Estilo\n",
    "\n",
    "pipeline_estilos = [\n",
    "  {\"$group\": {\"_id\": \"$style_title\"}},\n",
    "  {\"$project\":{\"_id\":0, \"estilo\":\"$_id\"}},\n",
    "  {\"$sort\":{\"estilo\":1}}\n",
    "]\n",
    "\n",
    "\n",
    "estilos = my_collection.aggregate(pipeline_estilos)\n"
   ]
  }
 ],
 "metadata": {
  "kernelspec": {
   "display_name": "Python 3",
   "language": "python",
   "name": "python3"
  },
  "language_info": {
   "codemirror_mode": {
    "name": "ipython",
    "version": 3
   },
   "file_extension": ".py",
   "mimetype": "text/x-python",
   "name": "python",
   "nbconvert_exporter": "python",
   "pygments_lexer": "ipython3",
   "version": "3.11.3"
  },
  "orig_nbformat": 4
 },
 "nbformat": 4,
 "nbformat_minor": 2
}
