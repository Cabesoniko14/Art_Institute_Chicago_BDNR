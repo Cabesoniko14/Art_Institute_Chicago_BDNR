{
 "cells": [
  {
   "attachments": {},
   "cell_type": "markdown",
   "metadata": {},
   "source": [
    "# **Proyecto Final BD_NR**"
   ]
  },
  {
   "attachments": {},
   "cell_type": "markdown",
   "metadata": {},
   "source": [
    "> **¿Qué hace este programa?** Realiza una descarga de la API del Art Institute of Chicago de hasta 1000 obras para descargarla a MongoDB, y luego, usando una máquina virtual, prender una instancia y pasar los datos a Neo4j."
   ]
  },
  {
   "attachments": {},
   "cell_type": "markdown",
   "metadata": {},
   "source": [
    "**INSTRUCCIONES** Corre la celda a continuación, llena los inputs deseados, y deja correr el resto de las celdas"
   ]
  },
  {
   "attachments": {},
   "cell_type": "markdown",
   "metadata": {},
   "source": [
    "## **1. Lectura de inputs**"
   ]
  },
  {
   "cell_type": "code",
   "execution_count": 1,
   "metadata": {},
   "outputs": [
    {
     "data": {
      "application/vnd.jupyter.widget-view+json": {
       "model_id": "8d7912c91c9c4749ac9422965f53da0e",
       "version_major": 2,
       "version_minor": 0
      },
      "text/plain": [
       "VBox(children=(Text(value='', description='BD:', layout=Layout(width='600px')), Text(value='', description='Co…"
      ]
     },
     "metadata": {},
     "output_type": "display_data"
    },
    {
     "name": "stdout",
     "output_type": "stream",
     "text": [
      "BD de Mongo: museito\n",
      "Colección de Mongo: obra\n",
      "Usuario de Neo4j: neo4j\n",
      "Password de Neo4j: Putopacman14\n",
      "Public IPv4 de instancia: 3.143.24.174\n"
     ]
    }
   ],
   "source": [
    "from IPython.display import display\n",
    "import ipywidgets as widgets\n",
    "\n",
    "name_bd_mongo = widgets.Text(value='', description='BD:', layout=widgets.Layout(width='600px'))\n",
    "name_col_mongo = widgets.Text(value='', description='Colección:', layout=widgets.Layout(width='600px'))\n",
    "user_neo4j_box = widgets.Text(value='', description='User Neo4j:', layout=widgets.Layout(width='600px'))\n",
    "password_neo4j_box = widgets.Text(value='', description='Password Neo4j:', layout=widgets.Layout(width='600px'))\n",
    "local_box = widgets.Text(value='', description='Public IPv4 AWS:', layout=widgets.Layout(width='600px'))\n",
    "submit_button = widgets.Button(description='Submit')\n",
    "\n",
    "def submit_button_clicked(b):\n",
    "    global bd_mongo, col_mongo, user_neo, password_neo, localhost\n",
    "    bd_mongo = name_bd_mongo.value\n",
    "    col_mongo = name_col_mongo.value\n",
    "    user_neo = user_neo4j_box.value\n",
    "    password_neo = password_neo4j_box.value\n",
    "    localhost = local_box.value\n",
    "    print(\"BD de Mongo:\", bd_mongo)\n",
    "    print(\"Colección de Mongo:\", col_mongo)\n",
    "    print(\"Usuario de Neo4j:\", user_neo)\n",
    "    print(\"Password de Neo4j:\", password_neo)\n",
    "    print(\"Public IPv4 de instancia:\", localhost)\n",
    "\n",
    "submit_button.on_click(submit_button_clicked)\n",
    "\n",
    "input_widgets = widgets.VBox([name_bd_mongo, name_col_mongo,  user_neo4j_box, password_neo4j_box, local_box,submit_button])\n",
    "display(input_widgets)\n",
    " "
   ]
  },
  {
   "attachments": {},
   "cell_type": "markdown",
   "metadata": {},
   "source": [
    "## **2. Import de bibliotecas**"
   ]
  },
  {
   "cell_type": "code",
   "execution_count": 2,
   "metadata": {},
   "outputs": [],
   "source": [
    "from pprint import pprint\n",
    "import requests\n",
    "import pymongo\n",
    "from neo4j import GraphDatabase"
   ]
  },
  {
   "attachments": {},
   "cell_type": "markdown",
   "metadata": {},
   "source": [
    "## **3. Conexión API a MongoDB**"
   ]
  },
  {
   "attachments": {},
   "cell_type": "markdown",
   "metadata": {},
   "source": [
    "Conexión a la API del Art Institute de Chicago para descargar 1000 obras de arte en una base de MongoDB."
   ]
  },
  {
   "attachments": {},
   "cell_type": "markdown",
   "metadata": {},
   "source": [
    "**Descarga de obras de la API**"
   ]
  },
  {
   "cell_type": "code",
   "execution_count": 3,
   "metadata": {},
   "outputs": [],
   "source": [
    "# Crear un arreglo para guardar las obras de arte\n",
    "\n",
    "url = \"https://api.artic.edu/api/v1/artworks?limit=100\" # Descargar 500 obras\n",
    "response = requests.get(url)\n",
    "if response.status_code == 200:\n",
    "    data = response.json()\n",
    "else:\n",
    "    print(f'Error en la descarga {response.status_code}')\n",
    "    \n",
    "# Descargar solo los datos\n",
    "collection = data['data']"
   ]
  },
  {
   "cell_type": "code",
   "execution_count": 4,
   "metadata": {},
   "outputs": [
    {
     "data": {
      "text/plain": [
       "{'id': 74258,\n",
       " 'api_model': 'artworks',\n",
       " 'api_link': 'https://api.artic.edu/api/v1/artworks/74258',\n",
       " 'is_boosted': False,\n",
       " 'title': 'Colorado',\n",
       " 'alt_titles': None,\n",
       " 'thumbnail': {'lqip': 'data:image/gif;base64,R0lGODlhBwAFAPUAAFBMTFBNTFZTU1lWVVlXVVpXWFpYWFxaWlxbWl5dXGFeXWRiYmZlZGdlZWpoaG1ta25sa25ubHBubXBvbXBvb3Nycnh4d4F/fYuLiZKTkJeYlpiYlZiYlqGhn6WnpKeppq2tqq2uqwAAAAAAAAAAAAAAAAAAAAAAAAAAAAAAAAAAAAAAAAAAAAAAAAAAAAAAAAAAAAAAAAAAAAAAAAAAAAAAAAAAAAAAAAAAAAAAAAAAAAAAAAAAAAAAAAAAAAAAACH5BAAAAAAALAAAAAAHAAUAAAYhQMhFslEMAAlQJyMIFBaIyMdwaFgYDw9hQuFgNCFHpRIEADs=',\n",
       "  'width': 3000,\n",
       "  'height': 2029,\n",
       "  'alt_text': 'A work made of gelatin silver print.'},\n",
       " 'main_reference_number': '1989.210.3',\n",
       " 'has_not_been_viewed_much': True,\n",
       " 'boost_rank': None,\n",
       " 'date_start': 1967,\n",
       " 'date_end': 1967,\n",
       " 'date_display': '1967',\n",
       " 'date_qualifier_title': 'Made',\n",
       " 'date_qualifier_id': 4,\n",
       " 'artist_display': 'Lee Friedlander\\nAmerican, born 1934',\n",
       " 'place_of_origin': 'United States',\n",
       " 'dimensions': 'Image/paper: 19.2 × 28.6 cm (7 9/16 × 11 5/16 in.); Paper: 28 × 35.4 cm (11 1/16 × 13 15/16 in.)',\n",
       " 'dimensions_detail': [{'depth_cm': 0,\n",
       "   'depth_in': 0,\n",
       "   'width_cm': 28.6,\n",
       "   'width_in': 11.2599,\n",
       "   'height_cm': 19.2,\n",
       "   'height_in': 7.5591,\n",
       "   'diameter_cm': 0,\n",
       "   'diameter_in': 0,\n",
       "   'clarification': 'Image/paper'},\n",
       "  {'depth_cm': 0,\n",
       "   'depth_in': 0,\n",
       "   'width_cm': 35.4,\n",
       "   'width_in': 13.9371,\n",
       "   'height_cm': 28,\n",
       "   'height_in': 11.0237,\n",
       "   'diameter_cm': 0,\n",
       "   'diameter_in': 0,\n",
       "   'clarification': 'Paper'}],\n",
       " 'medium_display': 'Gelatin silver print',\n",
       " 'inscriptions': 'Unmarked recto; signed verso, center, in graphite: \"Lee Friedlander\"; stamped verso, center, in black ink: \"This photograph is not released for publication or / for commercial ise of any kind. For permission / communicate with Lee Friedlander. 44 So. Mountain / Road, New City, N.Y. 10956. / © LEE FRIEDLANDER 1978\"; inscribed verso, lower center, in graphite: \"Colorado 1967\"; verso, lower right, in graphite: \"LF 11046\"; verso, lower right, in graphite: \"53-22\"',\n",
       " 'credit_line': 'Purchased with funds provided by Edward Byron Smith',\n",
       " 'catalogue_display': None,\n",
       " 'publication_history': None,\n",
       " 'exhibition_history': 'Art Institute of Chicago, \"Bystander: A History of Street Photography,\" December 10, 1994-April 16, 1995; traveled to the San Jose Museum of Art, January 16-April 4, 1999. (Colin Westerbeck)\\n\\nArt Institute of Chicago, \"A Mind at Play,\" June 14–September 7, 2008. (David Travis)\\n\\nArt Institute of Chicago, \"Max Kozloff: Critic and Photographer,\" October 5, 2013–January 5, 2014. (Michal Raz-Russo)',\n",
       " 'provenance_text': None,\n",
       " 'edition': None,\n",
       " 'publishing_verification_level': 'Web Cataloged',\n",
       " 'internal_department_id': 20,\n",
       " 'fiscal_year': None,\n",
       " 'fiscal_year_deaccession': None,\n",
       " 'is_public_domain': False,\n",
       " 'is_zoomable': False,\n",
       " 'max_zoom_window_size': 843,\n",
       " 'copyright_notice': None,\n",
       " 'has_multimedia_resources': False,\n",
       " 'has_educational_resources': False,\n",
       " 'has_advanced_imaging': False,\n",
       " 'colorfulness': 3.1531,\n",
       " 'color': {'h': 54,\n",
       "  'l': 51,\n",
       "  's': 1,\n",
       "  'percentage': 0.116126615471062,\n",
       "  'population': 558},\n",
       " 'latitude': None,\n",
       " 'longitude': None,\n",
       " 'latlon': None,\n",
       " 'is_on_view': False,\n",
       " 'on_loan_display': None,\n",
       " 'gallery_title': None,\n",
       " 'gallery_id': None,\n",
       " 'artwork_type_title': 'Photograph',\n",
       " 'artwork_type_id': 2,\n",
       " 'department_title': 'Photography and Media',\n",
       " 'department_id': 'PC-12',\n",
       " 'artist_id': 34560,\n",
       " 'artist_title': 'Lee Friedlander',\n",
       " 'alt_artist_ids': [],\n",
       " 'artist_ids': [34560],\n",
       " 'artist_titles': ['Lee Friedlander'],\n",
       " 'category_ids': ['PC-12'],\n",
       " 'category_titles': ['Photography and Media'],\n",
       " 'term_titles': ['gelatin silver (developing-out-paper) pr',\n",
       "  'portraits',\n",
       "  'photographic paper',\n",
       "  'black-and-white photography',\n",
       "  'portraits: male subject',\n",
       "  'photography',\n",
       "  'portraits: self-portrait',\n",
       "  'photographic process',\n",
       "  'photography',\n",
       "  'photograph',\n",
       "  'photographic processes',\n",
       "  'photographic techniques',\n",
       "  'photography'],\n",
       " 'style_id': None,\n",
       " 'style_title': None,\n",
       " 'alt_style_ids': [],\n",
       " 'style_ids': [],\n",
       " 'style_titles': [],\n",
       " 'classification_id': 'TM-213',\n",
       " 'classification_title': 'gelatin silver (developing-out-paper) pr',\n",
       " 'alt_classification_ids': ['TM-68', 'TM-67', 'TM-240'],\n",
       " 'classification_ids': ['TM-213', 'TM-68', 'TM-67', 'TM-240'],\n",
       " 'classification_titles': ['gelatin silver (developing-out-paper) pr',\n",
       "  'photographic process',\n",
       "  'photography',\n",
       "  'photograph'],\n",
       " 'subject_id': 'TM-8658',\n",
       " 'alt_subject_ids': ['TM-8581', 'TM-8578', 'TM-8647'],\n",
       " 'subject_ids': ['TM-8658', 'TM-8581', 'TM-8578', 'TM-8647'],\n",
       " 'subject_titles': ['portraits',\n",
       "  'portraits: male subject',\n",
       "  'photography',\n",
       "  'portraits: self-portrait'],\n",
       " 'material_id': 'TM-3046',\n",
       " 'alt_material_ids': [],\n",
       " 'material_ids': ['TM-3046'],\n",
       " 'material_titles': ['photographic paper'],\n",
       " 'technique_id': 'TM-12089',\n",
       " 'alt_technique_ids': ['TM-3937', 'TM-3977', 'TM-3978'],\n",
       " 'technique_ids': ['TM-12089', 'TM-3937', 'TM-3977', 'TM-3978'],\n",
       " 'technique_titles': ['black-and-white photography',\n",
       "  'photographic processes',\n",
       "  'photographic techniques',\n",
       "  'photography'],\n",
       " 'theme_titles': [],\n",
       " 'image_id': '4799dca6-6649-623f-6e89-130786c95c99',\n",
       " 'alt_image_ids': [],\n",
       " 'document_ids': [],\n",
       " 'sound_ids': [],\n",
       " 'video_ids': [],\n",
       " 'text_ids': [],\n",
       " 'section_ids': [],\n",
       " 'section_titles': [],\n",
       " 'site_ids': [],\n",
       " 'suggest_autocomplete_all': [{'input': ['1989.210.3'],\n",
       "   'contexts': {'groupings': ['accession']}},\n",
       "  {'input': ['Colorado'],\n",
       "   'weight': 172,\n",
       "   'contexts': {'groupings': ['title']}}],\n",
       " 'source_updated_at': '2023-05-24T16:59:05-05:00',\n",
       " 'updated_at': '2023-05-24T17:02:46-05:00',\n",
       " 'timestamp': '2023-05-24T22:42:57-05:00'}"
      ]
     },
     "execution_count": 4,
     "metadata": {},
     "output_type": "execute_result"
    }
   ],
   "source": [
    "collection[1]"
   ]
  },
  {
   "attachments": {},
   "cell_type": "markdown",
   "metadata": {},
   "source": [
    "**Revisar la estructura de cada JSON de una obra**"
   ]
  },
  {
   "attachments": {},
   "cell_type": "markdown",
   "metadata": {},
   "source": [
    "**Subir las obras a una nueva BD y colección en MongoDB**"
   ]
  },
  {
   "cell_type": "code",
   "execution_count": 5,
   "metadata": {},
   "outputs": [],
   "source": [
    "# Crear un cliente de MongoDB\n",
    "client = pymongo.MongoClient('mongodb://localhost:27017/')\n",
    "\n",
    "# Poner nombre a la BD\n",
    "db = client[bd_mongo]\n",
    "\n",
    "# Poner nombre a la conexión\n",
    "my_collection = db[col_mongo]\n",
    "insert_result = my_collection.insert_many(collection)"
   ]
  },
  {
   "attachments": {},
   "cell_type": "markdown",
   "metadata": {},
   "source": [
    "## **4. Queries de MongoDB**"
   ]
  },
  {
   "attachments": {},
   "cell_type": "markdown",
   "metadata": {},
   "source": [
    "En esta sección, incluimos tres queries avanzados para nuestra BD de Mongo."
   ]
  },
  {
   "attachments": {},
   "cell_type": "markdown",
   "metadata": {},
   "source": [
    "**Query 1**"
   ]
  },
  {
   "attachments": {},
   "cell_type": "markdown",
   "metadata": {},
   "source": [
    "> Explicación: "
   ]
  },
  {
   "cell_type": "code",
   "execution_count": 6,
   "metadata": {},
   "outputs": [],
   "source": [
    "# pipeline del query\n",
    "\n",
    "pipeline1 = [\n",
    "    {\n",
    "        '$group': {\n",
    "            '_id': {\n",
    "                'artist': '$artist_title'\n",
    "            },\n",
    "            'conteo_estilos': {\n",
    "                '$addToSet': '$style_title'\n",
    "            }\n",
    "        }\n",
    "    },\n",
    "    {\n",
    "        '$project': {\n",
    "            '_id': 0,\n",
    "            'artista': '$_id.artist',\n",
    "            'conteo_estilos': { '$size': '$conteo_estilos' }\n",
    "        }\n",
    "    },\n",
    "    {\n",
    "        '$sort': {\n",
    "            'conteo_estilos': -1,\n",
    "        }\n",
    "    },{\n",
    "        '$limit': 5\n",
    "    }\n",
    "]\n",
    "\n",
    "# Query\n",
    "\n",
    "result1 = my_collection.aggregate(pipeline1)"
   ]
  },
  {
   "attachments": {},
   "cell_type": "markdown",
   "metadata": {},
   "source": [
    "Print de los resultados"
   ]
  },
  {
   "cell_type": "code",
   "execution_count": 7,
   "metadata": {},
   "outputs": [
    {
     "name": "stdout",
     "output_type": "stream",
     "text": [
      "{'artista': 'Pablo Picasso', 'conteo_estilos': 2}\n",
      "{'artista': 'Ancient Roman', 'conteo_estilos': 2}\n",
      "{'artista': 'Willard Frederic Elms', 'conteo_estilos': 1}\n",
      "{'artista': 'Artist unknown', 'conteo_estilos': 1}\n",
      "{'artista': None, 'conteo_estilos': 1}\n"
     ]
    }
   ],
   "source": [
    "for document in result1:\n",
    "    pprint(document)\n"
   ]
  },
  {
   "attachments": {},
   "cell_type": "markdown",
   "metadata": {},
   "source": [
    "**Query 2**"
   ]
  },
  {
   "attachments": {},
   "cell_type": "markdown",
   "metadata": {},
   "source": [
    "> Explicación: por cada artista, enlistar todos los años de publicación de una obra."
   ]
  },
  {
   "cell_type": "code",
   "execution_count": 8,
   "metadata": {},
   "outputs": [],
   "source": [
    "pipeline2 = [\n",
    "    {\"$group\": {\"_id\": \"$artist_title\", \"fechas_display\": {\"$push\": \"$date_display\"}}},\n",
    "    {\"$project\": {\"_id\": 0, \"artista\": \"$_id\", \"fechas_display\": 1}},\n",
    "    {\"$sort\": {\"artista\": 1}}\n",
    "]\n",
    "\n",
    "result2 = my_collection.aggregate(pipeline2)\n"
   ]
  },
  {
   "attachments": {},
   "cell_type": "markdown",
   "metadata": {},
   "source": [
    "Print de los resultados"
   ]
  },
  {
   "cell_type": "code",
   "execution_count": 9,
   "metadata": {},
   "outputs": [
    {
     "name": "stdout",
     "output_type": "stream",
     "text": [
      "{'artista': None, 'fechas_display': ['c. 1940-50']}\n",
      "{'artista': 'American China Manufactory', 'fechas_display': ['c. 1770-1772']}\n",
      "{'artista': 'Ancient Etruscan', 'fechas_display': ['470-450 BCE']}\n",
      "{'artista': 'Ancient Greek',\n",
      " 'fechas_display': ['Geometric Period (800–700 BCE)',\n",
      "                    'Geometric Period (800–700 BCE)',\n",
      "                    'Geometric Period (800–700 BCE)',\n",
      "                    'Geometric Period (800–700 BCE)',\n",
      "                    'Geometric Period (800–700 BCE)',\n",
      "                    'Geometric Period (800–700 BCE)',\n",
      "                    'Geometric Period (800–600 BCE)',\n",
      "                    'Geometric Period (800–700 BCE)',\n",
      "                    'Geometric Period (800–700 BCE)',\n",
      "                    'Geometric Period (800–600 BCE)',\n",
      "                    'Geometric Period (800–600 BCE)',\n",
      "                    'Geometric Period (800–600 BCE)',\n",
      "                    'Geometric Period (800–600 BCE)',\n",
      "                    'Geometric Period (800–700 BCE)',\n",
      "                    'Geometric Period (800–700 BCE)',\n",
      "                    'Geometric Period (800–700 BCE)',\n",
      "                    'Geometric Period (800–700 BCE)',\n",
      "                    'Geometric Period (800–700 BCE)',\n",
      "                    'Geometric Period (800–600 BCE)',\n",
      "                    'Geometric Period (800–600 BCE)',\n",
      "                    'Geometric Period (800–700 BCE)',\n",
      "                    'Geometric Period (800–600 BCE)',\n",
      "                    'Geometric Period (800–600 BCE)',\n",
      "                    'Geometric Period (800–600 BCE)',\n",
      "                    'Geometric Period (800–700 BCE)',\n",
      "                    'Geometric Period (800–600 BCE)',\n",
      "                    'Geometric Period (800–600 BCE)',\n",
      "                    'Geometric Period (800–600 BCE)',\n",
      "                    'Geometric Period (800–600 BCE)',\n",
      "                    'Geometric Period (800–600 BCE)',\n",
      "                    'Geometric Period (800–600 BCE)',\n",
      "                    'Geometric Period (800–600 BCE)',\n",
      "                    'Geometric Period (750–700 BCE)',\n",
      "                    'Geometric Period (early 7th century BCE)',\n",
      "                    'Geometric Period (800–600 BCE)',\n",
      "                    'Geometric Period (800–600 BCE)',\n",
      "                    'Geometric Period (800–600 BCE)',\n",
      "                    'Geometric Period (800–600 BCE)',\n",
      "                    'Geometric Period (800–600 BCE)',\n",
      "                    '800-700 BCE',\n",
      "                    'Geometric Period (750–700 BCE)',\n",
      "                    'Geometric Period (800–600 BCE)',\n",
      "                    'Geometric Period (800–600 BCE)',\n",
      "                    'Geometric Period (800–600 BCE)']}\n",
      "{'artista': 'Ancient Roman',\n",
      " 'fechas_display': ['1st century', 'Mid 1st century BCE-mid 1st century CE']}\n",
      "{'artista': 'Ansel Adams', 'fechas_display': ['1941, printed c. 1975', '1941']}\n",
      "{'artista': 'Artist unknown', 'fechas_display': ['1800/15']}\n",
      "{'artista': 'Chinese export porcelain', 'fechas_display': ['c. 1789']}\n",
      "{'artista': 'Clara Driscoll', 'fechas_display': ['c. 1901']}\n",
      "{'artista': 'Donald Haeberle', 'fechas_display': ['March 1968']}\n",
      "{'artista': 'Ellsworth Kelly', 'fechas_display': ['1957', '1956-57', '1955-56']}\n",
      "{'artista': 'Gertrud Arndt', 'fechas_display': ['1930']}\n",
      "{'artista': 'Ibrahim El-Salahi', 'fechas_display': ['1968']}\n",
      "{'artista': 'Jasper Johns', 'fechas_display': ['1960', '1962']}\n",
      "{'artista': 'Jerzy Lewczyński', 'fechas_display': ['1959']}\n",
      "{'artista': 'Jim Goldberg', 'fechas_display': ['1979, printed 1984']}\n",
      "{'artista': 'Joseph Sterling', 'fechas_display': ['c. 1959']}\n",
      "{'artista': 'Königliche Porzellan-Manufaktur Berlin',\n",
      " 'fechas_display': ['designed 1891, made 1892']}\n",
      "{'artista': 'Lawrence N. Shustak', 'fechas_display': ['c. 1960']}\n",
      "{'artista': 'Lee Friedlander', 'fechas_display': ['1967']}\n",
      "{'artista': 'Lois Field', 'fechas_display': ['c. 1948']}\n",
      "{'artista': 'Lucas Cranach, the Elder',\n",
      " 'fechas_display': ['c. 1512', 'c. 1512']}\n",
      "{'artista': 'Maria Martins', 'fechas_display': ['c. 1943']}\n",
      "{'artista': 'Nasca',\n",
      " 'fechas_display': ['180 B.C./A.D. 500',\n",
      "                    '180 B.C./A.D. 500',\n",
      "                    '180 B.C./A.D. 500',\n",
      "                    '180 B.C./A.D. 500',\n",
      "                    '180 B.C./A.D. 500',\n",
      "                    '180 B.C./A.D. 500']}\n",
      "{'artista': 'Nathan Lerner', 'fechas_display': ['1933/97']}\n",
      "{'artista': 'Pablo Picasso',\n",
      " 'fechas_display': ['1954',\n",
      "                    'December 16, 1931',\n",
      "                    '1924',\n",
      "                    'autumn 1910',\n",
      "                    '1967',\n",
      "                    'January 20, 1959']}\n",
      "{'artista': 'Radcliffe Bailey', 'fechas_display': ['1995']}\n",
      "{'artista': 'Rogier van der Weyden', 'fechas_display': ['1460/64']}\n",
      "{'artista': 'Seydou Keïta', 'fechas_display': ['c. 1950']}\n",
      "{'artista': 'Thomas Wilmer Dewing', 'fechas_display': ['1911']}\n",
      "{'artista': 'Unknown', 'fechas_display': ['c. 1969', 'c. 1969', 'c. 1969']}\n",
      "{'artista': 'Willard Frederic Elms', 'fechas_display': ['c. 1924']}\n",
      "{'artista': 'Winold Reiss',\n",
      " 'fechas_display': ['c. 1939',\n",
      "                    'c. 1928–1929',\n",
      "                    'c. 1928–1929',\n",
      "                    'c. 1928–1929',\n",
      "                    'c. 1928–1929',\n",
      "                    'c. 1928–1929']}\n",
      "{'artista': 'Yasuhiro Ishimoto', 'fechas_display': ['1949/50']}\n"
     ]
    }
   ],
   "source": [
    "for doc in result2:\n",
    "    pprint(doc)"
   ]
  },
  {
   "attachments": {},
   "cell_type": "markdown",
   "metadata": {},
   "source": [
    "**Query 3**"
   ]
  },
  {
   "attachments": {},
   "cell_type": "markdown",
   "metadata": {},
   "source": [
    "> Explicación: ordenar de menor a mayor, el promedio del ancho de las pinturas de cada artista"
   ]
  },
  {
   "cell_type": "code",
   "execution_count": 10,
   "metadata": {},
   "outputs": [],
   "source": [
    "pipeline3 = [\n",
    "    {\n",
    "        '$group': {\n",
    "            '_id': {\n",
    "                'artista': '$artist_title'\n",
    "            },\n",
    "            'promedio_tamaños': {\n",
    "                '$avg': '$thumbnail.width'\n",
    "            }\n",
    "        }\n",
    "    },\n",
    "    {\n",
    "        '$project': {\n",
    "            '_id': 0,\n",
    "            'artista': '$_id.artista',\n",
    "            'promedio_tamaño': '$promedio_tamaños'\n",
    "        }\n",
    "    },\n",
    "    {\n",
    "        '$sort': {\n",
    "            'promedio_tamaño': 1,\n",
    "        }\n",
    "    }\n",
    "]\n",
    "\n",
    "result3 = my_collection.aggregate(pipeline3)\n"
   ]
  },
  {
   "cell_type": "code",
   "execution_count": 11,
   "metadata": {},
   "outputs": [
    {
     "name": "stdout",
     "output_type": "stream",
     "text": [
      "{'artista': 'Lawrence N. Shustak', 'promedio_tamaño': None}\n",
      "{'artista': 'Nathan Lerner', 'promedio_tamaño': 1024.0}\n",
      "{'artista': 'Radcliffe Bailey', 'promedio_tamaño': 1627.0}\n",
      "{'artista': 'Rogier van der Weyden', 'promedio_tamaño': 1644.0}\n",
      "{'artista': 'Ancient Etruscan', 'promedio_tamaño': 1758.0}\n",
      "{'artista': 'Thomas Wilmer Dewing', 'promedio_tamaño': 1864.0}\n",
      "{'artista': 'Jasper Johns', 'promedio_tamaño': 2028.0}\n",
      "{'artista': 'Jerzy Lewczyński', 'promedio_tamaño': 2056.0}\n",
      "{'artista': 'Ancient Greek', 'promedio_tamaño': 2192.431818181818}\n",
      "{'artista': 'Ibrahim El-Salahi', 'promedio_tamaño': 2252.0}\n",
      "{'artista': 'Lucas Cranach, the Elder', 'promedio_tamaño': 2260.0}\n",
      "{'artista': 'Ancient Roman', 'promedio_tamaño': 2344.5}\n",
      "{'artista': None, 'promedio_tamaño': 2634.0}\n",
      "{'artista': 'Nasca', 'promedio_tamaño': 2833.6666666666665}\n",
      "{'artista': 'Yasuhiro Ishimoto', 'promedio_tamaño': 2953.0}\n",
      "{'artista': 'Artist unknown', 'promedio_tamaño': 2987.0}\n",
      "{'artista': 'Lee Friedlander', 'promedio_tamaño': 3000.0}\n",
      "{'artista': 'Chinese export porcelain', 'promedio_tamaño': 3000.0}\n",
      "{'artista': 'Ellsworth Kelly', 'promedio_tamaño': 3285.3333333333335}\n",
      "{'artista': 'Maria Martins', 'promedio_tamaño': 3300.0}\n",
      "{'artista': 'Seydou Keïta', 'promedio_tamaño': 4223.0}\n",
      "{'artista': 'American China Manufactory', 'promedio_tamaño': 4241.0}\n",
      "{'artista': 'Jim Goldberg', 'promedio_tamaño': 4524.0}\n",
      "{'artista': 'Joseph Sterling', 'promedio_tamaño': 4544.0}\n",
      "{'artista': 'Willard Frederic Elms', 'promedio_tamaño': 4660.0}\n",
      "{'artista': 'Winold Reiss', 'promedio_tamaño': 5042.0}\n",
      "{'artista': 'Unknown', 'promedio_tamaño': 5177.0}\n",
      "{'artista': 'Donald Haeberle', 'promedio_tamaño': 6054.0}\n",
      "{'artista': 'Gertrud Arndt', 'promedio_tamaño': 6410.0}\n",
      "{'artista': 'Clara Driscoll', 'promedio_tamaño': 7670.0}\n",
      "{'artista': 'Ansel Adams', 'promedio_tamaño': 7703.0}\n",
      "{'artista': 'Lois Field', 'promedio_tamaño': 8708.0}\n",
      "{'artista': 'Königliche Porzellan-Manufaktur Berlin',\n",
      " 'promedio_tamaño': 12267.0}\n",
      "{'artista': 'Pablo Picasso', 'promedio_tamaño': 15899.833333333334}\n"
     ]
    }
   ],
   "source": [
    "for i in result3:\n",
    "    pprint(i)"
   ]
  },
  {
   "attachments": {},
   "cell_type": "markdown",
   "metadata": {},
   "source": [
    "## **5. Conexión de MongoDB a Neo4j**"
   ]
  },
  {
   "attachments": {},
   "cell_type": "markdown",
   "metadata": {},
   "source": [
    "Conexión de los datos de MongoDB a Neo4j, para así poder crear una nueva base de grafos, relacionando obras de arte entre ellas."
   ]
  },
  {
   "attachments": {},
   "cell_type": "markdown",
   "metadata": {},
   "source": [
    "Clase para graficar pinturas"
   ]
  },
  {
   "cell_type": "code",
   "execution_count": 12,
   "metadata": {},
   "outputs": [],
   "source": [
    "# Conectarse a Neo4j\n",
    "class GrafoPinturas:\n",
    "\n",
    "    def __init__(self, uri, user, password):\n",
    "        self.driver = GraphDatabase.driver(uri, auth=(user, password))\n",
    "\n",
    "    def close(self):\n",
    "        self.driver.close()\n",
    "\n",
    "    def crea_pintura(self, ID, nombre, lugar, artista, estilo, tipo):\n",
    "        try:\n",
    "            consulta = \"\"\"\n",
    "            CREATE (n:Pintura {id:$ID,\n",
    "                               nombre:$nombre, \n",
    "                               lugar:$lugar,\n",
    "                               artista:$artista,\n",
    "                               estilo:$estilo,\n",
    "                               tipo:$tipo})\n",
    "            \"\"\"\n",
    "            summary = self.driver.execute_query(\n",
    "                consulta,\n",
    "                ID=ID,\n",
    "                nombre=nombre,\n",
    "                lugar=lugar,\n",
    "                artista=artista,\n",
    "                estilo=estilo,\n",
    "                tipo=tipo,\n",
    "                database_='neo4j' \n",
    "            ).summary\n",
    "\n",
    "            #Imprimimos el resumen para asegurar que se cree correctamente\n",
    "            print(\"Created {nodes_created} nodes in {time} ms.\".format(\n",
    "                nodes_created=summary.counters.nodes_created,\n",
    "                time=summary.result_available_after\n",
    "            ))\n",
    "        except Exception as e:\n",
    "            print(\"An exception occurred\")\n",
    "        \n",
    "        \n",
    "    def crea_artista(self, ID, nombre):\n",
    "        try:\n",
    "            consulta = \"\"\"\n",
    "            CREATE (n:Artista {id:$ID,\n",
    "                               nombre:$nombre})\n",
    "            \"\"\"\n",
    "            summary = self.driver.execute_query(\n",
    "                consulta,\n",
    "                ID=ID,\n",
    "                nombre=nombre,\n",
    "                database_='neo4j'  \n",
    "            ).summary\n",
    "\n",
    "            #Imprimimos el resumen para asegurar que se cree correctamente\n",
    "            print(\"Created {nodes_created} nodes in {time} ms.\".format(\n",
    "                nodes_created=summary.counters.nodes_created,\n",
    "                time=summary.result_available_after\n",
    "            ))\n",
    "        except Exception as e:\n",
    "            print(\"An exception occurred\")\n",
    "     \n",
    "    \n",
    "    def crea_estilo(self, ID, nombre):\n",
    "        try:\n",
    "            consulta = \"\"\"\n",
    "            CREATE (n:Estilo {id:$ID,\n",
    "                               nombre:$nombre})\n",
    "            \"\"\"\n",
    "            summary = self.driver.execute_query(\n",
    "                consulta,\n",
    "                ID=ID,\n",
    "                nombre=nombre,\n",
    "                database_='neo4j'  \n",
    "            ).summary\n",
    "\n",
    "            #Imprimimos el resumen para asegurar que se cree correctamente\n",
    "            print(\"Created {nodes_created} nodes in {time} ms.\".format(\n",
    "                nodes_created=summary.counters.nodes_created,\n",
    "                time=summary.result_available_after\n",
    "            ))\n",
    "        except Exception as e:\n",
    "            print(\"An exception occurred\")\n",
    "            print(e)\n",
    "            \n",
    "\n",
    "    def crea_lugar(self, ID, nombre):\n",
    "        try:\n",
    "            consulta = \"\"\"\n",
    "            CREATE (n:Pais {id:$ID,\n",
    "                               nombre:$nombre})\n",
    "            \"\"\"\n",
    "            summary = self.driver.execute_query(\n",
    "                consulta,\n",
    "                ID=ID,\n",
    "                nombre=nombre,\n",
    "                database_='neo4j'  \n",
    "            ).summary\n",
    "\n",
    "            #Imprimimos el resumen para asegurar que se cree correctamente\n",
    "            print(\"Created {nodes_created} nodes in {time} ms.\".format(\n",
    "                nodes_created=summary.counters.nodes_created,\n",
    "                time=summary.result_available_after\n",
    "            ))\n",
    "        except Exception as e:\n",
    "            print(\"An exception occurred\")\n",
    "            \n",
    "            \n",
    "    def relacion(self, consulta):\n",
    "        try:\n",
    "            records, summary, keys = self.driver.execute_query(consulta,database_='neo4j')\n",
    "            print(f\"Query counters: {summary.counters}.\")\n",
    "        except:\n",
    "            print(\"An exception occurred\")\n",
    "            \n",
    "            \n",
    "    def consulta(self, consulta):\n",
    "        records, summary, keys = self.driver.execute_query(\n",
    "            consulta,\n",
    "            database_=\"neo4j\",\n",
    "        )\n",
    "        return records, summary, keys\n"
   ]
  },
  {
   "attachments": {},
   "cell_type": "markdown",
   "metadata": {},
   "source": [
    "Conexión"
   ]
  },
  {
   "cell_type": "code",
   "execution_count": 13,
   "metadata": {},
   "outputs": [],
   "source": [
    "# Conectarse a Neo4j\n",
    "\n",
    "link = 'bolt://' + localhost + ':7687'\n",
    "\n",
    "conexion_grafo_pinturas = GrafoPinturas(link, user_neo, password_neo) # instancia de la clase"
   ]
  },
  {
   "attachments": {},
   "cell_type": "markdown",
   "metadata": {},
   "source": [
    "### **4.1. Conseguir entidades**"
   ]
  },
  {
   "cell_type": "code",
   "execution_count": 14,
   "metadata": {},
   "outputs": [],
   "source": [
    "# Artistas\n",
    "pipeline_artists = [\n",
    "    {\"$group\": {\"_id\": \"$artist_title\"}},\n",
    "    {\"$project\": {\"_id\": 0, \"artista\": \"$_id\"}},\n",
    "    {\"$sort\": {\"artista\": 1}}\n",
    "]\n",
    "\n",
    "artistas = my_collection.aggregate(pipeline_artists)\n",
    "\n",
    "# Obras\n",
    "\n",
    "pipeline_obras = [{ \"$project\": {\n",
    "      \"nombre\": \"$title\",\n",
    "      \"id\": \"$id\",\n",
    "      \"lugar_origen\": \"$place_of_origin\",\n",
    "      \"artista\": \"$artist_title\",\n",
    "      \"estilo\": \"$style_title\",\n",
    "      \"tipo\": \"$medium_display\",\n",
    "      \"_id\": 0\n",
    "    }\n",
    "  }\n",
    "]\n",
    "\n",
    "\n",
    "obras = my_collection.aggregate(pipeline_obras)\n",
    "\n",
    "\n",
    "# Lugares\n",
    "\n",
    "pipeline_lugares = [\n",
    "  {\"$group\": {\"_id\": \"$place_of_origin\"}},\n",
    "  {\"$project\":{\"_id\":0, \"lugar\":\"$_id\"}},\n",
    "  {\"$sort\":{\"lugar\":1}}\n",
    "]\n",
    "\n",
    "\n",
    "lugares = my_collection.aggregate(pipeline_lugares)\n",
    "\n",
    "\n",
    "# Estilo\n",
    "\n",
    "pipeline_estilos = [\n",
    "  {\"$group\": {\"_id\": \"$style_title\"}},\n",
    "  {\"$project\":{\"_id\":0, \"estilo\":\"$_id\"}},\n",
    "  {\"$sort\":{\"estilo\":1}}\n",
    "]\n",
    "\n",
    "\n",
    "estilos = my_collection.aggregate(pipeline_estilos)\n"
   ]
  },
  {
   "attachments": {},
   "cell_type": "markdown",
   "metadata": {},
   "source": [
    "### **4.2 Creamos los nodos en Neo4j**"
   ]
  },
  {
   "cell_type": "code",
   "execution_count": 15,
   "metadata": {},
   "outputs": [
    {
     "name": "stdout",
     "output_type": "stream",
     "text": [
      "Created 1 nodes in 1 ms.\n",
      "Created 1 nodes in 1 ms.\n",
      "Created 1 nodes in 1 ms.\n",
      "Created 1 nodes in 1 ms.\n",
      "Created 1 nodes in 2 ms.\n",
      "Created 1 nodes in 16 ms.\n",
      "Created 1 nodes in 1 ms.\n",
      "Created 1 nodes in 5 ms.\n",
      "Created 1 nodes in 1 ms.\n",
      "Created 1 nodes in 15 ms.\n",
      "Created 1 nodes in 1 ms.\n",
      "Created 1 nodes in 1 ms.\n",
      "Created 1 nodes in 1 ms.\n",
      "Created 1 nodes in 3 ms.\n",
      "Created 1 nodes in 3 ms.\n",
      "Created 1 nodes in 1 ms.\n",
      "Created 1 nodes in 1 ms.\n",
      "Created 1 nodes in 1 ms.\n",
      "Created 1 nodes in 2 ms.\n",
      "Created 1 nodes in 1 ms.\n",
      "Created 1 nodes in 1 ms.\n",
      "Created 1 nodes in 1 ms.\n",
      "Created 1 nodes in 1 ms.\n",
      "Created 1 nodes in 1 ms.\n",
      "Created 1 nodes in 1 ms.\n",
      "Created 1 nodes in 1 ms.\n",
      "Created 1 nodes in 1 ms.\n",
      "Created 1 nodes in 1 ms.\n",
      "Created 1 nodes in 1 ms.\n",
      "Created 1 nodes in 1 ms.\n",
      "Created 1 nodes in 1 ms.\n",
      "Created 1 nodes in 1 ms.\n",
      "Created 1 nodes in 1 ms.\n",
      "Created 1 nodes in 1 ms.\n",
      "Created 1 nodes in 1 ms.\n",
      "Created 1 nodes in 0 ms.\n",
      "Created 1 nodes in 1 ms.\n",
      "Created 1 nodes in 1 ms.\n",
      "Created 1 nodes in 1 ms.\n",
      "Created 1 nodes in 1 ms.\n",
      "Created 1 nodes in 1 ms.\n",
      "Created 1 nodes in 1 ms.\n",
      "Created 1 nodes in 1 ms.\n",
      "Created 1 nodes in 1 ms.\n",
      "Created 1 nodes in 1 ms.\n",
      "Created 1 nodes in 1 ms.\n",
      "Created 1 nodes in 1 ms.\n",
      "Created 1 nodes in 1 ms.\n",
      "Created 1 nodes in 1 ms.\n",
      "Created 1 nodes in 1 ms.\n",
      "Created 1 nodes in 1 ms.\n",
      "Created 1 nodes in 1 ms.\n",
      "Created 1 nodes in 2 ms.\n",
      "Created 1 nodes in 1 ms.\n",
      "Created 1 nodes in 1 ms.\n",
      "Created 1 nodes in 6 ms.\n",
      "Created 1 nodes in 12 ms.\n",
      "Created 1 nodes in 1 ms.\n",
      "Created 1 nodes in 7 ms.\n",
      "Created 1 nodes in 1 ms.\n",
      "Created 1 nodes in 1 ms.\n",
      "Created 1 nodes in 1 ms.\n",
      "Created 1 nodes in 0 ms.\n",
      "Created 1 nodes in 2 ms.\n",
      "Created 1 nodes in 1 ms.\n",
      "Created 1 nodes in 1 ms.\n",
      "Created 1 nodes in 7 ms.\n",
      "Created 1 nodes in 1 ms.\n",
      "Created 1 nodes in 3 ms.\n",
      "Created 1 nodes in 1 ms.\n",
      "Created 1 nodes in 1 ms.\n",
      "Created 1 nodes in 3 ms.\n",
      "Created 1 nodes in 3 ms.\n",
      "Created 1 nodes in 0 ms.\n",
      "Created 1 nodes in 2 ms.\n",
      "Created 1 nodes in 2 ms.\n",
      "Created 1 nodes in 0 ms.\n",
      "Created 1 nodes in 0 ms.\n",
      "Created 1 nodes in 14 ms.\n",
      "Created 1 nodes in 0 ms.\n",
      "Created 1 nodes in 2 ms.\n",
      "Created 1 nodes in 1 ms.\n",
      "Created 1 nodes in 7 ms.\n",
      "Created 1 nodes in 1 ms.\n",
      "Created 1 nodes in 1 ms.\n",
      "Created 1 nodes in 1 ms.\n",
      "Created 1 nodes in 1 ms.\n",
      "Created 1 nodes in 1 ms.\n",
      "Created 1 nodes in 1 ms.\n",
      "Created 1 nodes in 1 ms.\n",
      "Created 1 nodes in 1 ms.\n",
      "Created 1 nodes in 1 ms.\n",
      "Created 1 nodes in 1 ms.\n",
      "Created 1 nodes in 1 ms.\n",
      "Created 1 nodes in 1 ms.\n",
      "Created 1 nodes in 1 ms.\n",
      "Created 1 nodes in 1 ms.\n",
      "Created 1 nodes in 0 ms.\n",
      "Created 1 nodes in 1 ms.\n",
      "Created 1 nodes in 1 ms.\n",
      "Created 1 nodes in 1 ms.\n",
      "Created 1 nodes in 1 ms.\n",
      "Created 1 nodes in 1 ms.\n",
      "Created 1 nodes in 1 ms.\n",
      "Created 1 nodes in 0 ms.\n",
      "Created 1 nodes in 1 ms.\n",
      "Created 1 nodes in 1 ms.\n",
      "Created 1 nodes in 1 ms.\n",
      "Created 1 nodes in 3 ms.\n",
      "Created 1 nodes in 1 ms.\n",
      "Created 1 nodes in 1 ms.\n",
      "Created 1 nodes in 0 ms.\n",
      "Created 1 nodes in 1 ms.\n",
      "Created 1 nodes in 1 ms.\n",
      "Created 1 nodes in 1 ms.\n",
      "Created 1 nodes in 1 ms.\n",
      "Created 1 nodes in 1 ms.\n",
      "Created 1 nodes in 1 ms.\n",
      "Created 1 nodes in 1 ms.\n",
      "Created 1 nodes in 1 ms.\n",
      "Created 1 nodes in 1 ms.\n",
      "Created 1 nodes in 1 ms.\n",
      "Created 1 nodes in 1 ms.\n",
      "Created 1 nodes in 1 ms.\n",
      "Created 1 nodes in 1 ms.\n",
      "Created 1 nodes in 1 ms.\n",
      "Created 1 nodes in 1 ms.\n",
      "Created 1 nodes in 0 ms.\n",
      "Created 1 nodes in 1 ms.\n",
      "Created 1 nodes in 1 ms.\n",
      "Created 1 nodes in 1 ms.\n",
      "Created 1 nodes in 0 ms.\n",
      "Created 1 nodes in 1 ms.\n",
      "Created 1 nodes in 1 ms.\n",
      "Created 1 nodes in 1 ms.\n",
      "Created 1 nodes in 0 ms.\n",
      "Created 1 nodes in 1 ms.\n",
      "Created 1 nodes in 2 ms.\n",
      "Created 1 nodes in 1 ms.\n",
      "Created 1 nodes in 1 ms.\n",
      "Created 1 nodes in 0 ms.\n",
      "Created 1 nodes in 1 ms.\n",
      "Created 1 nodes in 0 ms.\n",
      "Created 1 nodes in 6 ms.\n",
      "Created 1 nodes in 1 ms.\n",
      "Created 1 nodes in 0 ms.\n",
      "Created 1 nodes in 1 ms.\n",
      "Created 1 nodes in 1 ms.\n",
      "Created 1 nodes in 0 ms.\n",
      "Created 1 nodes in 1 ms.\n",
      "Created 1 nodes in 1 ms.\n",
      "Created 1 nodes in 1 ms.\n",
      "Created 1 nodes in 1 ms.\n",
      "Created 1 nodes in 1 ms.\n",
      "Created 1 nodes in 1 ms.\n",
      "Created 1 nodes in 1 ms.\n",
      "Created 1 nodes in 1 ms.\n",
      "Created 1 nodes in 1 ms.\n",
      "Created 1 nodes in 1 ms.\n",
      "Created 1 nodes in 1 ms.\n",
      "Created 1 nodes in 1 ms.\n",
      "Created 1 nodes in 1 ms.\n",
      "Created 1 nodes in 1 ms.\n",
      "Created 1 nodes in 1 ms.\n",
      "Created 1 nodes in 1 ms.\n",
      "Created 1 nodes in 1 ms.\n",
      "Created 1 nodes in 1 ms.\n",
      "Created 1 nodes in 1 ms.\n",
      "Created 1 nodes in 1 ms.\n",
      "Created 1 nodes in 1 ms.\n",
      "Created 1 nodes in 4 ms.\n",
      "Created 1 nodes in 1 ms.\n"
     ]
    }
   ],
   "source": [
    "for pintura in obras:\n",
    "    conexion_grafo_pinturas.crea_pintura(\n",
    "        ID=pintura['id'], \n",
    "        nombre=pintura['nombre'], \n",
    "        lugar=pintura['lugar_origen'], \n",
    "        artista=pintura['artista'], \n",
    "        estilo=pintura['estilo'], \n",
    "        tipo=pintura['tipo']\n",
    "    )\n",
    "    \n",
    "for contador, artista in enumerate(artistas):\n",
    "    conexion_grafo_pinturas.crea_artista(\n",
    "        ID=contador,\n",
    "        nombre =artista['artista']\n",
    "    )\n",
    "    \n",
    "    \n",
    "for contador, estilo in enumerate(estilos):\n",
    "    conexion_grafo_pinturas.crea_estilo(\n",
    "        ID=contador,\n",
    "        nombre =estilo['estilo']\n",
    "    )\n",
    "    \n",
    "for contador, lugar in enumerate(lugares):\n",
    "    conexion_grafo_pinturas.crea_lugar(\n",
    "        ID=contador,\n",
    "        nombre =lugar['lugar']\n",
    "    ) \n",
    "    "
   ]
  },
  {
   "attachments": {},
   "cell_type": "markdown",
   "metadata": {},
   "source": [
    "### **4.3. Creamos las relaciones**"
   ]
  },
  {
   "cell_type": "code",
   "execution_count": 16,
   "metadata": {},
   "outputs": [
    {
     "name": "stdout",
     "output_type": "stream",
     "text": [
      "Query counters: {'relationships_created': 99}.\n",
      "Query counters: {'relationships_created': 97}.\n",
      "Query counters: {'relationships_created': 31}.\n"
     ]
    }
   ],
   "source": [
    "relacion1 = \"\"\"\n",
    "MATCH (p:Pintura),(a:Artista)\n",
    "WHERE p.artista = a.nombre\n",
    "CREATE (p)-[:PINTADA_POR]->(a);\n",
    "\"\"\"\n",
    "relacion2 = \"\"\"\n",
    "MATCH (p:Pintura),(c:Pais)\n",
    "WHERE p.lugar = c.nombre\n",
    "CREATE (p)-[:ES_DE]->(c);\n",
    "\"\"\"\n",
    "relacion3 = \"\"\"\n",
    "MATCH (p:Pintura),(e:Estilo)\n",
    "WHERE p.estilo = e.nombre\n",
    "CREATE (p)-[:TIENE]->(e);\n",
    "\"\"\"\n",
    "conexion_grafo_pinturas.relacion(relacion1)\n",
    "conexion_grafo_pinturas.relacion(relacion2)\n",
    "conexion_grafo_pinturas.relacion(relacion3)"
   ]
  },
  {
   "attachments": {},
   "cell_type": "markdown",
   "metadata": {},
   "source": [
    "### **6. Queries en Neo4j**"
   ]
  },
  {
   "attachments": {},
   "cell_type": "markdown",
   "metadata": {},
   "source": [
    "**Query 1**"
   ]
  },
  {
   "attachments": {},
   "cell_type": "markdown",
   "metadata": {},
   "source": [
    "> Explicación: te regresa todas las pinturas de Picasso incluyendo una visualización del grafo (si lo corres en la interfaz)"
   ]
  },
  {
   "cell_type": "code",
   "execution_count": 17,
   "metadata": {},
   "outputs": [
    {
     "name": "stdout",
     "output_type": "stream",
     "text": [
      "{'o': {'estilo': 'reclining', 'tipo': 'Oil on canvas', 'artista': 'Pablo Picasso', 'lugar': 'Spain', 'id': 23968, 'nombre': 'Nude under a Pine Tree'}, 'rel': ({'estilo': 'reclining', 'tipo': 'Oil on canvas', 'artista': 'Pablo Picasso', 'lugar': 'Spain', 'id': 23968, 'nombre': 'Nude under a Pine Tree'}, 'PINTADA_POR', {'nombre': 'Pablo Picasso', 'id': 25}), 'e': {'nombre': 'Pablo Picasso', 'id': 25}}\n",
      "{'o': {'estilo': 'Cubism', 'tipo': 'Oil on canvas', 'artista': 'Pablo Picasso', 'lugar': 'Spain', 'id': 84239, 'nombre': 'Portrait of Sylvette David'}, 'rel': ({'estilo': 'Cubism', 'tipo': 'Oil on canvas', 'artista': 'Pablo Picasso', 'lugar': 'Spain', 'id': 84239, 'nombre': 'Portrait of Sylvette David'}, 'PINTADA_POR', {'nombre': 'Pablo Picasso', 'id': 25}), 'e': {'nombre': 'Pablo Picasso', 'id': 25}}\n",
      "{'o': {'tipo': 'White chalk on plywood', 'estilo': 'Cubism', 'artista': 'Pablo Picasso', 'lugar': 'Spain', 'id': 28019, 'nombre': 'Richard J. Daley Center Sculpture'}, 'rel': ({'tipo': 'White chalk on plywood', 'estilo': 'Cubism', 'artista': 'Pablo Picasso', 'lugar': 'Spain', 'id': 28019, 'nombre': 'Richard J. Daley Center Sculpture'}, 'PINTADA_POR', {'nombre': 'Pablo Picasso', 'id': 25}), 'e': {'nombre': 'Pablo Picasso', 'id': 25}}\n",
      "{'o': {'tipo': 'Oil and Ripolin on panel', 'estilo': 'Cubism', 'artista': 'Pablo Picasso', 'lugar': 'Spain', 'id': 5357, 'nombre': 'The Red Armchair'}, 'rel': ({'tipo': 'Oil and Ripolin on panel', 'estilo': 'Cubism', 'artista': 'Pablo Picasso', 'lugar': 'Spain', 'id': 5357, 'nombre': 'The Red Armchair'}, 'PINTADA_POR', {'nombre': 'Pablo Picasso', 'id': 25}), 'e': {'nombre': 'Pablo Picasso', 'id': 25}}\n",
      "{'o': {'estilo': 'Cubism', 'tipo': 'Oil on canvas', 'artista': 'Pablo Picasso', 'lugar': 'Spain', 'id': 111060, 'nombre': 'Daniel-Henry Kahnweiler'}, 'rel': ({'estilo': 'Cubism', 'tipo': 'Oil on canvas', 'artista': 'Pablo Picasso', 'lugar': 'Spain', 'id': 111060, 'nombre': 'Daniel-Henry Kahnweiler'}, 'PINTADA_POR', {'nombre': 'Pablo Picasso', 'id': 25}), 'e': {'nombre': 'Pablo Picasso', 'id': 25}}\n",
      "{'o': {'estilo': 'Cubism', 'tipo': 'Oil wash and graphite on cream wove paper', 'artista': 'Pablo Picasso', 'lugar': 'Spain', 'id': 186332, 'nombre': 'Guitar on a Table'}, 'rel': ({'estilo': 'Cubism', 'tipo': 'Oil wash and graphite on cream wove paper', 'artista': 'Pablo Picasso', 'lugar': 'Spain', 'id': 186332, 'nombre': 'Guitar on a Table'}, 'PINTADA_POR', {'nombre': 'Pablo Picasso', 'id': 25}), 'e': {'nombre': 'Pablo Picasso', 'id': 25}}\n"
     ]
    }
   ],
   "source": [
    "consulta1 = \"\"\"\n",
    "MATCH (o:Pintura)-[rel]->(e:Artista)\n",
    "WHERE e.nombre CONTAINS 'Pablo Picasso'\n",
    "RETURN o, rel, e;\n",
    "\"\"\"\n",
    "records1, summary1, keys1 = conexion_grafo_pinturas.consulta(consulta1)\n",
    "\n",
    "for record in records1:\n",
    "    print(record.data())"
   ]
  },
  {
   "attachments": {},
   "cell_type": "markdown",
   "metadata": {},
   "source": [
    "**Query 2**"
   ]
  },
  {
   "attachments": {},
   "cell_type": "markdown",
   "metadata": {},
   "source": [
    "> Explicación: te regresa los tipos de obra de arte que más están relacionados a obras junto con el número de obras."
   ]
  },
  {
   "cell_type": "code",
   "execution_count": 18,
   "metadata": {},
   "outputs": [
    {
     "name": "stdout",
     "output_type": "stream",
     "text": [
      "{'e.tipo': 'Bronze', 'c': 46}\n",
      "{'e.tipo': 'Gelatin silver print', 'c': 14}\n",
      "{'e.tipo': 'Ceramic and pigment', 'c': 6}\n",
      "{'e.tipo': 'Oil on canvas', 'c': 5}\n",
      "{'e.tipo': 'Mixed media on cream wove paper', 'c': 3}\n",
      "{'e.tipo': 'Pencil and crayon on off-white paper', 'c': 3}\n",
      "{'e.tipo': 'Woodcut in black on ivory laid paper', 'c': 2}\n",
      "{'e.tipo': 'Gelatin silver print, from the portfolio \"Black Jews\"', 'c': 1}\n",
      "{'e.tipo': 'Marble', 'c': 1}\n",
      "{'e.tipo': 'Transparent and opaque water-based pigments on paper', 'c': 1}\n",
      "{'e.tipo': 'Bronze, silver, and copper', 'c': 1}\n",
      "{'e.tipo': 'Lithograph from one stone in gray on cream wove paper', 'c': 1}\n",
      "{'e.tipo': 'Color lithograph on white Japan paper', 'c': 1}\n",
      "{'e.tipo': 'Porcelain', 'c': 1}\n",
      "{'e.tipo': 'Soft-paste porcelain, underglaze blue decoration', 'c': 1}\n",
      "{'e.tipo': 'Mahogany, satinwood, and brass', 'c': 1}\n",
      "{'e.tipo': 'Favrile glass, mirrored glass, and bronze', 'c': 1}\n",
      "{'e.tipo': 'Pencil and gouache on paper', 'c': 1}\n",
      "{'e.tipo': 'Pencil, crayon and watercolor on off-white paper', 'c': 1}\n",
      "{'e.tipo': 'Pencil, crayon and gouache on paper', 'c': 1}\n",
      "{'e.tipo': 'Oil on panel', 'c': 1}\n",
      "{'e.tipo': 'Toned gelatin silver print with mixed media', 'c': 1}\n",
      "{'e.tipo': 'Gelatin silver prints (474)', 'c': 1}\n",
      "{'e.tipo': 'Oil and Ripolin on panel', 'c': 1}\n",
      "{'e.tipo': 'Glazed porcelain', 'c': 1}\n",
      "{'e.tipo': 'Color lithograph on three sheets of cream wove paper, laid down on fabric support', 'c': 1}\n",
      "{'e.tipo': 'Oil wash and graphite on cream wove paper', 'c': 1}\n",
      "{'e.tipo': 'White chalk on plywood', 'c': 1}\n"
     ]
    }
   ],
   "source": [
    "consulta2 = \"\"\"\n",
    "MATCH (e:Pintura) return e.tipo, count(*) as c order by c desc;\n",
    "\"\"\"\n",
    "records2, summary2, keys2 = conexion_grafo_pinturas.consulta(consulta2)\n",
    "\n",
    "for record in records2:\n",
    "    print(record.data())"
   ]
  },
  {
   "attachments": {},
   "cell_type": "markdown",
   "metadata": {},
   "source": [
    "**Query 3**"
   ]
  },
  {
   "attachments": {},
   "cell_type": "markdown",
   "metadata": {},
   "source": [
    "> Explicación: te regresa todos los artistas más importantes usando GDS.PageRank"
   ]
  },
  {
   "attachments": {},
   "cell_type": "markdown",
   "metadata": {},
   "source": [
    "\n",
    "Ejecutar en la interfaz:\n",
    "\n",
    "> CALL gds.graph.create('pinturasYArtistas', ['Artista', 'Pintura'], ['PINTADA_POR']) YIELD graphName AS graph, nodeProjection, nodeCount AS nodes, relationshipCount AS rels;"
   ]
  },
  {
   "attachments": {},
   "cell_type": "markdown",
   "metadata": {},
   "source": [
    "\n",
    "Luego, ejecturar:\n",
    "\n",
    "> CALL gds.pageRank.stream('pinturasYArtistas') YIELD nodeId, score RETURN gds.util.asNode(nodeId).nombre AS nombre, score ORDER BY score DESC, nombre ASC\n"
   ]
  },
  {
   "attachments": {},
   "cell_type": "markdown",
   "metadata": {},
   "source": [
    "## **7. Fin conexión de Neo4j**"
   ]
  },
  {
   "cell_type": "code",
   "execution_count": null,
   "metadata": {},
   "outputs": [],
   "source": [
    "conexion_grafo_pinturas.close()"
   ]
  }
 ],
 "metadata": {
  "kernelspec": {
   "display_name": "Python 3",
   "language": "python",
   "name": "python3"
  },
  "language_info": {
   "codemirror_mode": {
    "name": "ipython",
    "version": 3
   },
   "file_extension": ".py",
   "mimetype": "text/x-python",
   "name": "python",
   "nbconvert_exporter": "python",
   "pygments_lexer": "ipython3",
   "version": "3.11.3"
  },
  "orig_nbformat": 4
 },
 "nbformat": 4,
 "nbformat_minor": 2
}
